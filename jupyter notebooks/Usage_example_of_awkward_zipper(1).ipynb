{
  "nbformat": 4,
  "nbformat_minor": 0,
  "metadata": {
    "colab": {
      "provenance": []
    },
    "kernelspec": {
      "name": "python3",
      "display_name": "Python 3"
    },
    "language_info": {
      "name": "python"
    }
  },
  "cells": [
    {
      "cell_type": "markdown",
      "source": [
        "Install libraries"
      ],
      "metadata": {
        "id": "GDklQRC5v5Eg"
      }
    },
    {
      "cell_type": "code",
      "source": [
        "!pip install git+https://github.com/maxymnaumchyk/awkward-zipper.git"
      ],
      "metadata": {
        "colab": {
          "base_uri": "https://localhost:8080/"
        },
        "id": "gaS-GOwH42SE",
        "outputId": "1f379214-d838-486a-9a89-e465f05e5cdb"
      },
      "execution_count": null,
      "outputs": [
        {
          "output_type": "stream",
          "name": "stdout",
          "text": [
            "Collecting git+https://github.com/maxymnaumchyk/awkward-zipper.git\n",
            "  Cloning https://github.com/maxymnaumchyk/awkward-zipper.git to /tmp/pip-req-build-tp33qsvu\n",
            "  Running command git clone --filter=blob:none --quiet https://github.com/maxymnaumchyk/awkward-zipper.git /tmp/pip-req-build-tp33qsvu\n",
            "  Resolved https://github.com/maxymnaumchyk/awkward-zipper.git to commit c25fb3750b9427350f0bad9c7cc5f9cd32ecc25c\n",
            "  Installing build dependencies ... \u001b[?25l\u001b[?25hdone\n",
            "  Getting requirements to build wheel ... \u001b[?25l\u001b[?25hdone\n",
            "  Preparing metadata (pyproject.toml) ... \u001b[?25l\u001b[?25hdone\n",
            "Collecting awkward@ git+https://github.com/scikit-hep/awkward@main (from awkward-zipper==0.0.1)\n",
            "  Cloning https://github.com/scikit-hep/awkward (to revision main) to /tmp/pip-install-jm9o4r5l/awkward_c262c2534fb24530826bc9a475dc0ab3\n",
            "  Running command git clone --filter=blob:none --quiet https://github.com/scikit-hep/awkward /tmp/pip-install-jm9o4r5l/awkward_c262c2534fb24530826bc9a475dc0ab3\n",
            "  Resolved https://github.com/scikit-hep/awkward to commit 2ca5ccd578d901e7dcfea1cde13c2ac79b13f872\n",
            "  Running command git submodule update --init --recursive -q\n",
            "  Installing build dependencies ... \u001b[?25l\u001b[?25hdone\n",
            "  Getting requirements to build wheel ... \u001b[?25l\u001b[?25hdone\n",
            "  Preparing metadata (pyproject.toml) ... \u001b[?25l\u001b[?25hdone\n",
            "Requirement already satisfied: numba in /usr/local/lib/python3.11/dist-packages (from awkward-zipper==0.0.1) (0.60.0)\n",
            "Collecting vector (from awkward-zipper==0.0.1)\n",
            "  Downloading vector-1.6.3-py3-none-any.whl.metadata (16 kB)\n",
            "Collecting awkward-cpp==48 (from awkward@ git+https://github.com/scikit-hep/awkward@main->awkward-zipper==0.0.1)\n",
            "  Downloading awkward_cpp-48-cp311-cp311-manylinux_2_27_x86_64.manylinux_2_28_x86_64.whl.metadata (2.2 kB)\n",
            "Requirement already satisfied: fsspec>=2022.11.0 in /usr/local/lib/python3.11/dist-packages (from awkward@ git+https://github.com/scikit-hep/awkward@main->awkward-zipper==0.0.1) (2025.3.0)\n",
            "Requirement already satisfied: importlib-metadata>=4.13.0 in /usr/local/lib/python3.11/dist-packages (from awkward@ git+https://github.com/scikit-hep/awkward@main->awkward-zipper==0.0.1) (8.7.0)\n",
            "Requirement already satisfied: numpy>=1.18.0 in /usr/local/lib/python3.11/dist-packages (from awkward@ git+https://github.com/scikit-hep/awkward@main->awkward-zipper==0.0.1) (2.0.2)\n",
            "Requirement already satisfied: packaging in /usr/local/lib/python3.11/dist-packages (from awkward@ git+https://github.com/scikit-hep/awkward@main->awkward-zipper==0.0.1) (25.0)\n",
            "Requirement already satisfied: llvmlite<0.44,>=0.43.0dev0 in /usr/local/lib/python3.11/dist-packages (from numba->awkward-zipper==0.0.1) (0.43.0)\n",
            "Requirement already satisfied: zipp>=3.20 in /usr/local/lib/python3.11/dist-packages (from importlib-metadata>=4.13.0->awkward@ git+https://github.com/scikit-hep/awkward@main->awkward-zipper==0.0.1) (3.23.0)\n",
            "Downloading awkward_cpp-48-cp311-cp311-manylinux_2_27_x86_64.manylinux_2_28_x86_64.whl (650 kB)\n",
            "\u001b[2K   \u001b[90m━━━━━━━━━━━━━━━━━━━━━━━━━━━━━━━━━━━━━━━━\u001b[0m \u001b[32m650.3/650.3 kB\u001b[0m \u001b[31m10.5 MB/s\u001b[0m eta \u001b[36m0:00:00\u001b[0m\n",
            "\u001b[?25hDownloading vector-1.6.3-py3-none-any.whl (179 kB)\n",
            "\u001b[2K   \u001b[90m━━━━━━━━━━━━━━━━━━━━━━━━━━━━━━━━━━━━━━━━\u001b[0m \u001b[32m179.6/179.6 kB\u001b[0m \u001b[31m11.0 MB/s\u001b[0m eta \u001b[36m0:00:00\u001b[0m\n",
            "\u001b[?25hBuilding wheels for collected packages: awkward-zipper, awkward\n",
            "  Building wheel for awkward-zipper (pyproject.toml) ... \u001b[?25l\u001b[?25hdone\n",
            "  Created wheel for awkward-zipper: filename=awkward_zipper-0.0.1-py3-none-any.whl size=24610 sha256=3e7cc8e9d12a342cce35bb75f4c3420822b1ab571466d3c15b8dd5f76a1d54bd\n",
            "  Stored in directory: /tmp/pip-ephem-wheel-cache-nuhatrfn/wheels/13/ff/6a/a86ac1ebbfd7f56ba74dec9ccffa35df23b6890fac28284fed\n",
            "  Building wheel for awkward (pyproject.toml) ... \u001b[?25l\u001b[?25hdone\n",
            "  Created wheel for awkward: filename=awkward-2.8.6-py3-none-any.whl size=853440 sha256=7bbb76874ae326b84e1b36612ff4550be9154c1816359c05dd9c292062906b39\n",
            "  Stored in directory: /tmp/pip-ephem-wheel-cache-nuhatrfn/wheels/b9/90/e9/6455c7a94885426a7e2fc34b49d59ee756873090f777c368b0\n",
            "Successfully built awkward-zipper awkward\n",
            "Installing collected packages: vector, awkward-cpp, awkward, awkward-zipper\n",
            "Successfully installed awkward-2.8.6 awkward-cpp-48 awkward-zipper-0.0.1 vector-1.6.3\n"
          ]
        }
      ]
    },
    {
      "cell_type": "markdown",
      "source": [
        "Use a branch from main to load virtual arrays with uproot"
      ],
      "metadata": {
        "id": "l4hJJEJWmHL9"
      }
    },
    {
      "cell_type": "code",
      "source": [
        "!pip install uproot@git+https://github.com/scikit-hep/uproot5@pfackeldey/uproot_lazy"
      ],
      "metadata": {
        "colab": {
          "base_uri": "https://localhost:8080/"
        },
        "id": "kVWRGuyxmG2s",
        "outputId": "49d202d3-e145-495d-f302-517621c42165"
      },
      "execution_count": null,
      "outputs": [
        {
          "output_type": "stream",
          "name": "stdout",
          "text": [
            "Collecting uproot@ git+https://github.com/scikit-hep/uproot5@pfackeldey/uproot_lazy\n",
            "  Cloning https://github.com/scikit-hep/uproot5 (to revision pfackeldey/uproot_lazy) to /tmp/pip-install-9ex8lpfo/uproot_3a481f3a5c354b15a636759f85f9aec0\n",
            "  Running command git clone --filter=blob:none --quiet https://github.com/scikit-hep/uproot5 /tmp/pip-install-9ex8lpfo/uproot_3a481f3a5c354b15a636759f85f9aec0\n",
            "  Running command git checkout -b pfackeldey/uproot_lazy --track origin/pfackeldey/uproot_lazy\n",
            "  Switched to a new branch 'pfackeldey/uproot_lazy'\n",
            "  Branch 'pfackeldey/uproot_lazy' set up to track remote branch 'pfackeldey/uproot_lazy' from 'origin'.\n",
            "  Resolved https://github.com/scikit-hep/uproot5 to commit f9788f77c681e91e7f31b5ba75cbf34b81ea35ba\n",
            "  Installing build dependencies ... \u001b[?25l\u001b[?25hdone\n",
            "  Getting requirements to build wheel ... \u001b[?25l\u001b[?25hdone\n",
            "  Preparing metadata (pyproject.toml) ... \u001b[?25l\u001b[?25hdone\n",
            "Requirement already satisfied: awkward>=2.8.2 in /usr/local/lib/python3.11/dist-packages (from uproot@ git+https://github.com/scikit-hep/uproot5@pfackeldey/uproot_lazy) (2.8.6)\n",
            "Requirement already satisfied: cramjam>=2.5.0 in /usr/local/lib/python3.11/dist-packages (from uproot@ git+https://github.com/scikit-hep/uproot5@pfackeldey/uproot_lazy) (2.10.0)\n",
            "Requirement already satisfied: fsspec!=2025.7.0 in /usr/local/lib/python3.11/dist-packages (from uproot@ git+https://github.com/scikit-hep/uproot5@pfackeldey/uproot_lazy) (2025.3.0)\n",
            "Requirement already satisfied: numpy in /usr/local/lib/python3.11/dist-packages (from uproot@ git+https://github.com/scikit-hep/uproot5@pfackeldey/uproot_lazy) (2.0.2)\n",
            "Requirement already satisfied: packaging in /usr/local/lib/python3.11/dist-packages (from uproot@ git+https://github.com/scikit-hep/uproot5@pfackeldey/uproot_lazy) (25.0)\n",
            "Requirement already satisfied: xxhash in /usr/local/lib/python3.11/dist-packages (from uproot@ git+https://github.com/scikit-hep/uproot5@pfackeldey/uproot_lazy) (3.5.0)\n",
            "Requirement already satisfied: awkward-cpp==48 in /usr/local/lib/python3.11/dist-packages (from awkward>=2.8.2->uproot@ git+https://github.com/scikit-hep/uproot5@pfackeldey/uproot_lazy) (48)\n",
            "Requirement already satisfied: importlib-metadata>=4.13.0 in /usr/local/lib/python3.11/dist-packages (from awkward>=2.8.2->uproot@ git+https://github.com/scikit-hep/uproot5@pfackeldey/uproot_lazy) (8.7.0)\n",
            "Requirement already satisfied: zipp>=3.20 in /usr/local/lib/python3.11/dist-packages (from importlib-metadata>=4.13.0->awkward>=2.8.2->uproot@ git+https://github.com/scikit-hep/uproot5@pfackeldey/uproot_lazy) (3.23.0)\n",
            "Building wheels for collected packages: uproot\n",
            "  Building wheel for uproot (pyproject.toml) ... \u001b[?25l\u001b[?25hdone\n",
            "  Created wheel for uproot: filename=uproot-5.6.4.dev31+gf9788f7-py3-none-any.whl size=384282 sha256=a4e40280a919554bf642f731056888050d0cbac5d482179928e661474bfb4b01\n",
            "  Stored in directory: /tmp/pip-ephem-wheel-cache-iqc_zy_h/wheels/6d/4a/38/cca594ce698fdd158d6039640034edca9dda20c890c171703a\n",
            "Successfully built uproot\n",
            "Installing collected packages: uproot\n",
            "Successfully installed uproot-5.6.4.dev31+gf9788f7\n"
          ]
        }
      ]
    },
    {
      "cell_type": "markdown",
      "source": [
        "Download test root file"
      ],
      "metadata": {
        "id": "L32udy-jvxUm"
      }
    },
    {
      "cell_type": "code",
      "source": [
        "!wget {'https://raw.githubusercontent.com/scikit-hep/coffea/refs/heads/master/tests/samples/nano_dy.root'}"
      ],
      "metadata": {
        "colab": {
          "base_uri": "https://localhost:8080/"
        },
        "id": "8JenSD97vvyI",
        "outputId": "aaf416c5-ae1d-46d0-fd22-e81ef5ec7e73"
      },
      "execution_count": null,
      "outputs": [
        {
          "output_type": "stream",
          "name": "stdout",
          "text": [
            "--2025-08-03 20:40:17--  https://raw.githubusercontent.com/scikit-hep/coffea/refs/heads/master/tests/samples/nano_dy.root\n",
            "Resolving raw.githubusercontent.com (raw.githubusercontent.com)... 185.199.110.133, 185.199.111.133, 185.199.108.133, ...\n",
            "Connecting to raw.githubusercontent.com (raw.githubusercontent.com)|185.199.110.133|:443... connected.\n",
            "HTTP request sent, awaiting response... 200 OK\n",
            "Length: 352599 (344K) [application/octet-stream]\n",
            "Saving to: ‘nano_dy.root’\n",
            "\n",
            "nano_dy.root        100%[===================>] 344.33K  --.-KB/s    in 0.04s   \n",
            "\n",
            "2025-08-03 20:40:17 (9.03 MB/s) - ‘nano_dy.root’ saved [352599/352599]\n",
            "\n"
          ]
        }
      ]
    },
    {
      "cell_type": "markdown",
      "source": [
        "Import libraries"
      ],
      "metadata": {
        "id": "wXU7fNGMvMeP"
      }
    },
    {
      "cell_type": "code",
      "execution_count": null,
      "metadata": {
        "id": "-7K2A3Hm3S21"
      },
      "outputs": [],
      "source": [
        "import uproot\n",
        "import awkward"
      ]
    },
    {
      "cell_type": "markdown",
      "source": [
        "Let's load the example data in [NanoAOD](https://twiki.cern.ch/twiki/bin/view/CMSPublic/WorkBookNanoAOD) format:"
      ],
      "metadata": {
        "id": "1lhg9AWkKcP-"
      }
    },
    {
      "cell_type": "code",
      "source": [
        "# Create a TTree from root\n",
        "tree = uproot.open(\"nano_dy.root\")[\"Events\"]\n",
        "# TTree -> awkward.Array[awkward.Record[str, awkward.Array]]\n",
        "array = tree.arrays(ak_add_doc=True)"
      ],
      "metadata": {
        "id": "oK97AsG5vW8T"
      },
      "execution_count": null,
      "outputs": []
    },
    {
      "cell_type": "code",
      "source": [
        "array.show()"
      ],
      "metadata": {
        "colab": {
          "base_uri": "https://localhost:8080/"
        },
        "id": "rS_ZuXVFx65l",
        "outputId": "fd0efe9e-6686-4b24-83ae-d58182a4628f"
      },
      "execution_count": null,
      "outputs": [
        {
          "output_type": "stream",
          "name": "stdout",
          "text": [
            "[{run: 1, luminosityBlock: 13889, event: 3749778, HTXS_Higgs_pt: 0, ...},\n",
            " {run: 1, luminosityBlock: 13889, event: 3749762, HTXS_Higgs_pt: 0, ...},\n",
            " {run: 1, luminosityBlock: 13889, event: 3749777, HTXS_Higgs_pt: 0, ...},\n",
            " {run: 1, luminosityBlock: 13889, event: 3749768, HTXS_Higgs_pt: 0, ...},\n",
            " {run: 1, luminosityBlock: 13889, event: 3749761, HTXS_Higgs_pt: 0, ...},\n",
            " {run: 1, luminosityBlock: 13889, event: 3749773, HTXS_Higgs_pt: 0, ...},\n",
            " {run: 1, luminosityBlock: 13889, event: 3749781, HTXS_Higgs_pt: 0, ...},\n",
            " {run: 1, luminosityBlock: 13889, event: 3749786, HTXS_Higgs_pt: 0, ...},\n",
            " {run: 1, luminosityBlock: 13889, event: 3749788, HTXS_Higgs_pt: 0, ...},\n",
            " {run: 1, luminosityBlock: 13889, event: 3749783, HTXS_Higgs_pt: 0, ...},\n",
            " ...,\n",
            " {run: 1, luminosityBlock: 13889, event: 3749862, HTXS_Higgs_pt: 0, ...},\n",
            " {run: 1, luminosityBlock: 13889, event: 3749866, HTXS_Higgs_pt: 0, ...},\n",
            " {run: 1, luminosityBlock: 13889, event: 3749861, HTXS_Higgs_pt: 0, ...},\n",
            " {run: 1, luminosityBlock: 13889, event: 3749863, HTXS_Higgs_pt: 0, ...},\n",
            " {run: 1, luminosityBlock: 13889, event: 3749875, HTXS_Higgs_pt: 0, ...},\n",
            " {run: 1, luminosityBlock: 13889, event: 3749865, HTXS_Higgs_pt: 0, ...},\n",
            " {run: 1, luminosityBlock: 13889, event: 3749883, HTXS_Higgs_pt: 0, ...},\n",
            " {run: 1, luminosityBlock: 13889, event: 3749882, HTXS_Higgs_pt: 0, ...},\n",
            " {run: 1, luminosityBlock: 13889, event: 3749892, HTXS_Higgs_pt: 0, ...}]\n"
          ]
        }
      ]
    },
    {
      "cell_type": "markdown",
      "source": [
        "The resulting data is a list of records. Each record represents a single event and all of its parameters data. For example here's some of the data for the first event in our file:"
      ],
      "metadata": {
        "id": "SmvO8A7aw0NE"
      }
    },
    {
      "cell_type": "code",
      "source": [
        "array[0].show(50)"
      ],
      "metadata": {
        "colab": {
          "base_uri": "https://localhost:8080/"
        },
        "id": "Y0PeY_7uRXCj",
        "outputId": "6c093c2b-fe8c-496c-eb79-5ba3b69613f1"
      },
      "execution_count": null,
      "outputs": [
        {
          "output_type": "stream",
          "name": "stdout",
          "text": [
            "{run: 1,\n",
            " luminosityBlock: 13889,\n",
            " event: 3749778,\n",
            " HTXS_Higgs_pt: 0,\n",
            " HTXS_Higgs_y: nan,\n",
            " HTXS_stage1_1_cat_pTjet25GeV: 0,\n",
            " HTXS_stage1_1_cat_pTjet30GeV: 0,\n",
            " HTXS_stage1_1_fine_cat_pTjet25GeV: 0,\n",
            " HTXS_stage1_1_fine_cat_pTjet30GeV: 0,\n",
            " HTXS_stage_0: 0,\n",
            " HTXS_stage_1_pTjet25: 0,\n",
            " HTXS_stage_1_pTjet30: 0,\n",
            " HTXS_njets25: 0,\n",
            " HTXS_njets30: 0,\n",
            " btagWeight_CSVV2: 0.951,\n",
            " btagWeight_DeepCSVB: 0.893,\n",
            " CaloMET_phi: 2.79,\n",
            " CaloMET_pt: 32.1,\n",
            " CaloMET_sumEt: 652,\n",
            " ChsMET_phi: 2.51,\n",
            " ChsMET_pt: 33.7,\n",
            " ChsMET_sumEt: 784,\n",
            " nCorrT1METJet: 5,\n",
            " CorrT1METJet_area: [0.579, 0.449, 0.509, 0.519, 0.638],\n",
            " CorrT1METJet_eta: [-2.36, 4.33, 2.27, 3.92, 2.62],\n",
            " CorrT1METJet_muonSubtrFactor: [3.59e-08, 1.08e-08, ..., 7.16e-09, -2.98e-08],\n",
            " CorrT1METJet_phi: [0.387, 2.03, 1.56, 2.39, -0.405],\n",
            " CorrT1METJet_rawPt: [12.9, 15.3, 10.2, 14.9, 9.41],\n",
            " nElectron: 0,\n",
            " Electron_deltaEtaSC: [],\n",
            " Electron_dr03EcalRecHitSumEt: [],\n",
            " Electron_dr03HcalDepth1TowerSumEt: [],\n",
            " Electron_dr03TkSumPt: [],\n",
            " Electron_dr03TkSumPtHEEP: [],\n",
            " Electron_dxy: [],\n",
            " Electron_dxyErr: [],\n",
            " Electron_dz: [],\n",
            " Electron_dzErr: [],\n",
            " Electron_eCorr: [],\n",
            " Electron_eInvMinusPInv: [],\n",
            " Electron_energyErr: [],\n",
            " Electron_eta: [],\n",
            " Electron_hoe: [],\n",
            " Electron_ip3d: [],\n",
            " Electron_jetPtRelv2: [],\n",
            " Electron_jetRelIso: [],\n",
            " Electron_mass: [],\n",
            " Electron_miniPFRelIso_all: [],\n",
            " Electron_miniPFRelIso_chg: [],\n",
            " ...}\n"
          ]
        }
      ]
    },
    {
      "cell_type": "markdown",
      "source": [
        "## Awkward-zipper example usage"
      ],
      "metadata": {
        "id": "Uyrh9ixRLg66"
      }
    },
    {
      "cell_type": "markdown",
      "source": [
        "The goal of the awkward-zipper package is to restructure the record of each event. These records are restructured in the same manner as in [Coffea package](https://coffea-hep.readthedocs.io/en/v2025.1.1/api/coffea.nanoevents.NanoAODSchema.html)."
      ],
      "metadata": {
        "id": "jJV_ht1jyYEv"
      }
    },
    {
      "cell_type": "code",
      "source": [
        "from awkward_zipper import NanoAOD\n",
        "\n",
        "restructure = NanoAOD(version=\"latest\")\n",
        "result = restructure(array)"
      ],
      "metadata": {
        "colab": {
          "base_uri": "https://localhost:8080/"
        },
        "id": "4hOy8KZpvISY",
        "outputId": "40e5a94a-5cd5-4923-9f8b-8f952dbfa8e3"
      },
      "execution_count": null,
      "outputs": [
        {
          "output_type": "stream",
          "name": "stderr",
          "text": [
            "/tmp/ipython-input-1056997857.py:4: RuntimeWarning: Missing cross-reference index for LowPtElectron_electronIdx => Electron\n",
            "  result = restructure(array)\n",
            "/tmp/ipython-input-1056997857.py:4: RuntimeWarning: Missing cross-reference index for LowPtElectron_genPartIdx => GenPart\n",
            "  result = restructure(array)\n",
            "/tmp/ipython-input-1056997857.py:4: RuntimeWarning: Missing cross-reference index for LowPtElectron_photonIdx => Photon\n",
            "  result = restructure(array)\n",
            "/tmp/ipython-input-1056997857.py:4: RuntimeWarning: Missing cross-reference index for FatJet_genJetAK8Idx => GenJetAK8\n",
            "  result = restructure(array)\n",
            "/usr/local/lib/python3.11/dist-packages/awkward_zipper/kernels.py:144: DeprecationWarning: __array__ implementation doesn't accept a copy keyword, so passing copy=False failed. __array__ must implement 'dtype' and 'copy' keyword arguments.\n",
            "  out[i::n] = idx\n"
          ]
        }
      ]
    },
    {
      "cell_type": "code",
      "source": [
        "awkward.materialize(result)\n",
        "result"
      ],
      "metadata": {
        "colab": {
          "base_uri": "https://localhost:8080/",
          "height": 434
        },
        "id": "4rNjmzXKymlR",
        "outputId": "b76558ad-7fe5-481f-d5db-f306e240c485"
      },
      "execution_count": null,
      "outputs": [
        {
          "output_type": "execute_result",
          "data": {
            "text/html": [
              "<pre>[{SoftActivityJetNjets2: 5, Flag: {...}, ...},\n",
              " {SoftActivityJetNjets2: 5, Flag: {...}, ...},\n",
              " {SoftActivityJetNjets2: 7, Flag: {...}, ...},\n",
              " {SoftActivityJetNjets2: 4, Flag: {...}, ...},\n",
              " {SoftActivityJetNjets2: 16, Flag: {...}, ...},\n",
              " {SoftActivityJetNjets2: 6, Flag: {...}, ...},\n",
              " {SoftActivityJetNjets2: 4, Flag: {...}, ...},\n",
              " {SoftActivityJetNjets2: 12, Flag: {...}, ...},\n",
              " {SoftActivityJetNjets2: 3, Flag: {...}, ...},\n",
              " {SoftActivityJetNjets2: 20, Flag: {...}, ...},\n",
              " ...,\n",
              " {SoftActivityJetNjets2: 11, Flag: {...}, ...},\n",
              " {SoftActivityJetNjets2: 2, Flag: {...}, ...},\n",
              " {SoftActivityJetNjets2: 13, Flag: {...}, ...},\n",
              " {SoftActivityJetNjets2: 2, Flag: {...}, ...},\n",
              " {SoftActivityJetNjets2: 1, Flag: {...}, ...},\n",
              " {SoftActivityJetNjets2: 12, Flag: {...}, ...},\n",
              " {SoftActivityJetNjets2: 6, Flag: {...}, ...},\n",
              " {SoftActivityJetNjets2: 4, Flag: {...}, ...},\n",
              " {SoftActivityJetNjets2: 5, Flag: {...}, ...}]\n",
              "-----------------------------------------------\n",
              "backend: cpu\n",
              "nbytes: 243.3 kB\n",
              "type: 40 * event</pre>"
            ],
            "text/plain": [
              "<NanoEventsArray [<NanoAOD event>, ...] type='40 * event'>"
            ]
          },
          "metadata": {},
          "execution_count": 11
        }
      ]
    },
    {
      "cell_type": "markdown",
      "source": [
        "Now let's go step by step how awkward-zipper reconstructs the original NanoAOD data."
      ],
      "metadata": {
        "id": "-IRxumr3QL1_"
      }
    },
    {
      "cell_type": "markdown",
      "source": [
        "## How the new fields are added\n"
      ],
      "metadata": {
        "id": "mz8Go2gBQF_f"
      }
    },
    {
      "cell_type": "code",
      "source": [
        "from awkward_zipper.kernels import (\n",
        "    counts2offsets,\n",
        "    local2globalindex,\n",
        ")"
      ],
      "metadata": {
        "id": "6TnObziUSHmt"
      },
      "execution_count": null,
      "outputs": []
    },
    {
      "cell_type": "markdown",
      "source": [
        "For example we have a local index branches with names matching `{source}_{target}Idx*` are converted to global indexes for the event chunk (postfix `G`).\n",
        "(All local indices and their correlating global indices are taken from `NanoAOD.all_cross_references` dictionary)"
      ],
      "metadata": {
        "id": "W4BINbAZC-Nw"
      }
    },
    {
      "cell_type": "code",
      "source": [
        "local_index = 'Jet_electronIdx1'\n",
        "\n",
        "# cross_referense = NanoAOD.all_cross_references[local_index]\n",
        "# global_index = \"n\" + cross_referense\n",
        "global_index = 'nElectron'\n",
        "\n",
        "array[\"Jet_electronIdx1G\"] = local2globalindex(array[local_index], array[global_index])\n",
        "array[\"Jet_electronIdx1G\"]"
      ],
      "metadata": {
        "colab": {
          "base_uri": "https://localhost:8080/",
          "height": 434
        },
        "id": "CoYaamrXC-xQ",
        "outputId": "7086d688-2b10-45d2-edfa-b7a4b80c2bce"
      },
      "execution_count": null,
      "outputs": [
        {
          "output_type": "execute_result",
          "data": {
            "text/html": [
              "<pre>[[-1, -1, -1, -1, -1],\n",
              " [-1, 0, -1, -1, -1, -1, -1, -1],\n",
              " [-1, 1, 2, -1, -1],\n",
              " [-1, -1, 3],\n",
              " [-1, -1, -1, -1, -1],\n",
              " [5, -1, -1, -1, -1, -1, -1, -1],\n",
              " [6, -1, -1, -1],\n",
              " [-1, -1, -1, -1],\n",
              " [-1],\n",
              " [-1, 7, -1, -1, -1, -1, -1, -1, -1],\n",
              " ...,\n",
              " [21, -1],\n",
              " [-1, -1, -1, -1],\n",
              " [22, -1, -1, -1, -1, -1, -1, -1, -1],\n",
              " [-1, -1, -1],\n",
              " [23, -1],\n",
              " [-1, -1, -1],\n",
              " [24],\n",
              " [-1, -1, -1, -1, -1, -1],\n",
              " [-1, -1]]\n",
              "--------------------------------------\n",
              "backend: cpu\n",
              "nbytes: 1.8 kB\n",
              "type: 40 * [var * int64, parameters={&quot;__doc__&quot;: &quot;global index of first matching electron&quot;}]</pre>"
            ],
            "text/plain": [
              "<Array [[-1, -1, -1, -1, -1], ..., [-1, ...]] type='40 * [var * int64, para...'>"
            ]
          },
          "metadata": {},
          "execution_count": 13
        }
      ]
    },
    {
      "cell_type": "markdown",
      "source": [
        "How the functions like local2globalindex work is the main difference between awkward-zipper and coffea.\n",
        "\n",
        "awkward-zipper does its inner calculations on awkward arrays, while coffea does them using [forms and buffers](https://awkward-array.org/doc/main/reference/generated/ak.to_buffers.html)."
      ],
      "metadata": {
        "id": "HK5Z9q66txFK"
      }
    },
    {
      "cell_type": "markdown",
      "source": [
        "This change will make it easier for users to create their own ‘schemas’ (or modify existing ones)"
      ],
      "metadata": {
        "id": "zxr6VzW-up2B"
      }
    },
    {
      "cell_type": "code",
      "source": [],
      "metadata": {
        "id": "Ft7nW34C2Vad"
      },
      "execution_count": null,
      "outputs": []
    },
    {
      "cell_type": "markdown",
      "source": [
        "## These fields are then grouped by name, where if:"
      ],
      "metadata": {
        "id": "5Z037oGc2XdX"
      }
    },
    {
      "cell_type": "markdown",
      "source": [
        "one branch exists named name and no branches start with name_, it gets interpreted as a single flat array;"
      ],
      "metadata": {
        "id": "KF2qrlxj2gCy"
      }
    },
    {
      "cell_type": "code",
      "source": [
        "# Example: Each event has only one Run Id. Interpreted flat array will look look like this:\n",
        "result.run"
      ],
      "metadata": {
        "colab": {
          "base_uri": "https://localhost:8080/",
          "height": 434
        },
        "id": "-dHsEYPQ2sOy",
        "outputId": "863c3e68-7a0a-4624-b738-ee7c0b8bfa8d"
      },
      "execution_count": null,
      "outputs": [
        {
          "output_type": "execute_result",
          "data": {
            "text/html": [
              "<pre>[1,\n",
              " 1,\n",
              " 1,\n",
              " 1,\n",
              " 1,\n",
              " 1,\n",
              " 1,\n",
              " 1,\n",
              " 1,\n",
              " 1,\n",
              " ...,\n",
              " 1,\n",
              " 1,\n",
              " 1,\n",
              " 1,\n",
              " 1,\n",
              " 1,\n",
              " 1,\n",
              " 1,\n",
              " 1]\n",
              "-----\n",
              "backend: cpu\n",
              "nbytes: 160 B\n",
              "type: 40 * uint32[parameters={&quot;__doc__&quot;: &quot;run/i&quot;}]</pre>"
            ],
            "text/plain": [
              "<Array [1, 1, 1, 1, 1, 1, ..., 1, 1, 1, 1, 1] type='40 * uint32[parameters=...'>"
            ]
          },
          "metadata": {},
          "execution_count": 14
        }
      ]
    },
    {
      "cell_type": "markdown",
      "source": [
        "one branch exists named name, one named n{name}, and no branches start with name_, it gets interpreted as a single jagged array;"
      ],
      "metadata": {
        "id": "odU4PCSQ2gIr"
      }
    },
    {
      "cell_type": "code",
      "source": [
        "# Example: Each event has a flat array of PS Weights. Interpreted single jagged array will look look like this:\n",
        "result.PSWeight"
      ],
      "metadata": {
        "colab": {
          "base_uri": "https://localhost:8080/",
          "height": 454
        },
        "id": "f8u-_6HGta1B",
        "outputId": "22e51da5-d0a4-41fa-d238-ebf6060fcc4e"
      },
      "execution_count": null,
      "outputs": [
        {
          "output_type": "execute_result",
          "data": {
            "text/html": [
              "<pre>[[1.01, 1.26, 0.99, 0.791],\n",
              " [2.06, 0.872, 0.535, 0.962],\n",
              " [1.07, 0.887, 0.933, 1.02],\n",
              " [0.833, 0.827, 1.15, 1.1],\n",
              " [0.936, 0.622, 1.04, 1.17],\n",
              " [1.17, 1, 0.86, 0.978],\n",
              " [1.12, 1.59, 0.906, 0.688],\n",
              " [0.946, 0.922, 1.04, 0.997],\n",
              " [0.88, 0.855, 1.09, 0.811],\n",
              " [0.854, 0.518, 1.11, 1.16],\n",
              " ...,\n",
              " [0.906, 0.687, 1.07, 1.18],\n",
              " [0.917, 0.977, 1.07, 1.01],\n",
              " [0.858, 0.812, 1.11, 0.841],\n",
              " [0.884, 1, 1.09, 1],\n",
              " [0.919, 0.848, 1.07, 1.08],\n",
              " [0.953, 1.02, 1.04, 0.968],\n",
              " [0.946, 1, 1.04, 1],\n",
              " [1.08, 2.17, 0.932, 0.57],\n",
              " [0.856, 1.41, 1.12, 0.761]]\n",
              "-----------------------------\n",
              "backend: cpu\n",
              "nbytes: 968 B\n",
              "type: 40 * [var * float32, parameters={&quot;__doc__&quot;: &quot;PS weights (w_var / w_nominal); [0] is ISR=0.5 FSR=1; [1] is ISR=1 FSR=0.5; [2] is ISR=2 FSR=1; [3] is ISR=1 FSR=2 &quot;, &quot;__array__&quot;: &quot;NanoCollection&quot;, &quot;collection_name&quot;: &quot;PSWeight&quot;}]</pre>"
            ],
            "text/plain": [
              "<Array [[1.01, 1.26, 0.99, 0.791], ..., [...]] type='40 * [var * float32, p...'>"
            ]
          },
          "metadata": {},
          "execution_count": 15
        }
      ]
    },
    {
      "cell_type": "markdown",
      "source": [
        "no branch exists named {name} and many branches start with name_*, they get interpreted as a flat table; or"
      ],
      "metadata": {
        "id": "zFUxVZvr2z3A"
      }
    },
    {
      "cell_type": "code",
      "source": [
        "#Example: Each event has a SINGLE Generator. Each Generator consists of a record of Generator parameters. These parameters can be scalars or flat arrays. Interpreted flat table will look look like this:\n",
        "result.Generator"
      ],
      "metadata": {
        "id": "G1k1r41w2Zbv",
        "colab": {
          "base_uri": "https://localhost:8080/",
          "height": 607
        },
        "outputId": "09f74faa-56f7-4525-9d1b-84b190722cbe"
      },
      "execution_count": null,
      "outputs": [
        {
          "output_type": "execute_result",
          "data": {
            "text/html": [
              "<pre>[{scalePDF: 95.4, id1: 1, x1: 0.214, id2: -1, weight: 2.63e+04, ...},\n",
              " {scalePDF: 54.4, id1: -1, x1: 0.0142, id2: 1, weight: 2.63e+04, ...},\n",
              " {scalePDF: 74.8, id1: -1, x1: 0.00564, id2: 21, weight: 2.63e+04, ...},\n",
              " {scalePDF: 52.3, id1: 21, x1: 0.00173, id2: -1, weight: 2.58e+04, ...},\n",
              " {scalePDF: 71.7, id1: 21, x1: 0.0432, id2: 1, weight: 2.63e+04, ...},\n",
              " {scalePDF: 59.5, id1: 4, x1: 0.00337, id2: -4, weight: 2.63e+04, ...},\n",
              " {scalePDF: 40.4, id1: 2, x1: 0.0051, id2: 2, weight: -2.63e+04, ...},\n",
              " {scalePDF: 34.3, id1: -2, x1: 0.000154, id2: 2, weight: 2.61e+04, ...},\n",
              " {scalePDF: 65.3, id1: 2, x1: 0.0541, id2: -2, weight: 2.63e+04, ...},\n",
              " {scalePDF: 35.8, id1: 1, x1: 0.011, id2: -1, weight: 2.63e+04, ...},\n",
              " ...,\n",
              " {scalePDF: 51.2, id1: 1, x1: 0.0069, id2: -1, weight: 2.63e+04, ...},\n",
              " {scalePDF: 50.5, id1: -2, x1: 0.000121, id2: 2, weight: 2.63e+04, ...},\n",
              " {scalePDF: 40.3, id1: 2, x1: 0.229, id2: 21, weight: -2.63e+04, ...},\n",
              " {scalePDF: 32.4, id1: 1, x1: 0.00506, id2: -1, weight: 2.63e+04, ...},\n",
              " {scalePDF: 90.5, id1: 2, x1: 0.00608, id2: -2, weight: -2.63e+04, ...},\n",
              " {scalePDF: 46.1, id1: -2, x1: 0.000411, id2: 2, weight: 2.63e+04, ...},\n",
              " {scalePDF: 89.4, id1: -1, x1: 0.0004, id2: 1, weight: -2.63e+04, ...},\n",
              " {scalePDF: 33.9, id1: 2, x1: 0.184, id2: -2, weight: 2.63e+04, ...},\n",
              " {scalePDF: 92.2, id1: 1, x1: 0.00268, id2: -1, weight: -2.63e+04, ...}]\n",
              "------------------------------------------------------------------------\n",
              "backend: cpu\n",
              "nbytes: 1.4 kB\n",
              "type: 40 * NanoCollection[\n",
              "    scalePDF: float32[parameters={&quot;__doc__&quot;: &quot;Q2 scale for PDF&quot;}],\n",
              "    id1: int32[parameters={&quot;__doc__&quot;: &quot;id of first parton&quot;}],\n",
              "    x1: float32[parameters={&quot;__doc__&quot;: &quot;x1 fraction of proton momentum carried by the first parton&quot;}],\n",
              "    id2: int32[parameters={&quot;__doc__&quot;: &quot;id of second parton&quot;}],\n",
              "    weight: float32[parameters={&quot;__doc__&quot;: &quot;MC generator weight&quot;}],\n",
              "    binvar: float32[parameters={&quot;__doc__&quot;: &quot;MC generation binning value&quot;}],\n",
              "    x2: float32[parameters={&quot;__doc__&quot;: &quot;x2 fraction of proton momentum carried by the second parton&quot;}],\n",
              "    xpdf1: float32[parameters={&quot;__doc__&quot;: &quot;x*pdf(x) for the first parton&quot;}],\n",
              "    xpdf2: float32[parameters={&quot;__doc__&quot;: &quot;x*pdf(x) for the second parton&quot;}], \n",
              "parameters={&quot;collection_name&quot;: &quot;Generator&quot;}]</pre>"
            ],
            "text/plain": [
              "<NanoCollectionArray [{scalePDF: 95.4, id1: 1, ...}, ...] type='40 * NanoCo...'>"
            ]
          },
          "metadata": {},
          "execution_count": 16
        }
      ]
    },
    {
      "cell_type": "markdown",
      "source": [
        "one branch exists named n{name} and many branches start with name_*, they interpreted as a jagged table."
      ],
      "metadata": {
        "id": "qjbnG49K23xS"
      }
    },
    {
      "cell_type": "code",
      "source": [
        "# Example: Each event has an array of Jets. Each Jet consists of a record of Jet parameters. These parameters can be scalars or flat arrays. Interpreted jagged table will look look like this:\n",
        "result.Jet"
      ],
      "metadata": {
        "colab": {
          "base_uri": "https://localhost:8080/",
          "height": 642
        },
        "id": "ODRiS7N-24zS",
        "outputId": "c9ffa4a5-e7b1-4385-b361-a550ce9de94c"
      },
      "execution_count": null,
      "outputs": [
        {
          "output_type": "execute_result",
          "data": {
            "text/html": [
              "<pre>[[Jet, ...],\n",
              " [Jet, ...],\n",
              " [Jet, ...],\n",
              " [Jet, ...],\n",
              " [Jet, ...],\n",
              " [Jet, ...],\n",
              " [Jet, ...],\n",
              " [Jet, ...],\n",
              " [{mass: 3.69, rawFactor: -0.0132, btagCMVA: -0.853, bRegRes: 0.249, ...}],\n",
              " [Jet, ...],\n",
              " ...,\n",
              " [Jet, ...],\n",
              " [Jet, ...],\n",
              " [Jet, ...],\n",
              " [Jet, ...],\n",
              " [Jet, ...],\n",
              " [Jet, ...],\n",
              " [{mass: 5.33, rawFactor: 0.0115, btagCMVA: -0.716, bRegRes: 0.182, ...}],\n",
              " [Jet, ...],\n",
              " [Jet, ...]]\n",
              "---------------------------------------------------------------------------\n",
              "backend: cpu\n",
              "nbytes: 43.4 kB\n",
              "type: 40 * var * Jet[\n",
              "    mass: float32[parameters={&quot;__doc__&quot;: &quot;mass&quot;}],\n",
              "    rawFactor: float32[parameters={&quot;__doc__&quot;: &quot;1 - Factor to get back to raw pT&quot;}],\n",
              "    btagCMVA: float32[parameters={&quot;__doc__&quot;: &quot;CMVA V2 btag discriminator&quot;}],\n",
              "    bRegRes: float32[parameters={&quot;__doc__&quot;: &quot;res on pt corrected with b-jet regression&quot;}],\n",
              "    cleanmask: uint8[parameters={&quot;__doc__&quot;: &quot;simple cleaning mask with priority to leptons&quot;}],\n",
              "    eta: float32[parameters={&quot;__doc__&quot;: &quot;eta&quot;}],\n",
              "    partonFlavour: int32[parameters={&quot;__doc__&quot;: &quot;flavour from parton matching&quot;}],\n",
              "    muonSubtrFactor: float32[parameters={&quot;__doc__&quot;: &quot;1-(muon-subtracted raw pt)/(raw pt)&quot;}],\n",
              "    jercCHPUF: float32[parameters={&quot;__doc__&quot;: &quot;Pileup Charged Hadron Energy Fraction with the JERC group definition&quot;}],\n",
              "    puId: int32[parameters={&quot;__doc__&quot;: &quot;Pilup ID flags&quot;}],\n",
              "    ...\n",
              "parameters={&quot;collection_name&quot;: &quot;Jet&quot;, &quot;__doc__&quot;: &quot;slimmedJets, i.e. ak4 PFJets CHS with JECs applied, after basic selection (pt &gt; 15)&quot;}]</pre>"
            ],
            "text/plain": [
              "<JetArray [[Jet, ..., Jet], ...] type='40 * var * Jet[mass: float32[paramet...'>"
            ]
          },
          "metadata": {},
          "execution_count": 17
        }
      ]
    },
    {
      "cell_type": "markdown",
      "source": [
        "Finally, all collections are then zipped into one NanoEvents record and returned."
      ],
      "metadata": {
        "id": "WpXUsMBqvsf6"
      }
    },
    {
      "cell_type": "markdown",
      "source": [
        "Final result:"
      ],
      "metadata": {
        "id": "_8CPLNKbrwNm"
      }
    },
    {
      "cell_type": "code",
      "source": [
        "result"
      ],
      "metadata": {
        "colab": {
          "base_uri": "https://localhost:8080/",
          "height": 434
        },
        "id": "6ooWejwMrgxc",
        "outputId": "8588d15f-0e71-4ffc-d229-8fd660e34773"
      },
      "execution_count": null,
      "outputs": [
        {
          "output_type": "execute_result",
          "data": {
            "text/html": [
              "<pre>[{SoftActivityJetNjets2: 5, Flag: {...}, ...},\n",
              " {SoftActivityJetNjets2: 5, Flag: {...}, ...},\n",
              " {SoftActivityJetNjets2: 7, Flag: {...}, ...},\n",
              " {SoftActivityJetNjets2: 4, Flag: {...}, ...},\n",
              " {SoftActivityJetNjets2: 16, Flag: {...}, ...},\n",
              " {SoftActivityJetNjets2: 6, Flag: {...}, ...},\n",
              " {SoftActivityJetNjets2: 4, Flag: {...}, ...},\n",
              " {SoftActivityJetNjets2: 12, Flag: {...}, ...},\n",
              " {SoftActivityJetNjets2: 3, Flag: {...}, ...},\n",
              " {SoftActivityJetNjets2: 20, Flag: {...}, ...},\n",
              " ...,\n",
              " {SoftActivityJetNjets2: 11, Flag: {...}, ...},\n",
              " {SoftActivityJetNjets2: 2, Flag: {...}, ...},\n",
              " {SoftActivityJetNjets2: 13, Flag: {...}, ...},\n",
              " {SoftActivityJetNjets2: 2, Flag: {...}, ...},\n",
              " {SoftActivityJetNjets2: 1, Flag: {...}, ...},\n",
              " {SoftActivityJetNjets2: 12, Flag: {...}, ...},\n",
              " {SoftActivityJetNjets2: 6, Flag: {...}, ...},\n",
              " {SoftActivityJetNjets2: 4, Flag: {...}, ...},\n",
              " {SoftActivityJetNjets2: 5, Flag: {...}, ...}]\n",
              "-----------------------------------------------\n",
              "backend: cpu\n",
              "nbytes: 243.3 kB\n",
              "type: 40 * event</pre>"
            ],
            "text/plain": [
              "<NanoEventsArray [<NanoAOD event>, ...] type='40 * event'>"
            ]
          },
          "metadata": {},
          "execution_count": 18
        }
      ]
    },
    {
      "cell_type": "code",
      "source": [
        "result.Jet.mass"
      ],
      "metadata": {
        "colab": {
          "base_uri": "https://localhost:8080/",
          "height": 434
        },
        "id": "u_NFN-lw4-Si",
        "outputId": "aee067d7-00a1-44f3-d521-f74d8a619f50"
      },
      "execution_count": null,
      "outputs": [
        {
          "output_type": "execute_result",
          "data": {
            "text/html": [
              "<pre>[[11.7, 8.94, 2.69, 3.81, 4.23],\n",
              " [17, 6.25, 6.07, 5, 3.89, 4, 4.31, 4.55],\n",
              " [12.4, 5.99, 2.78, 5.88, 4.64],\n",
              " [5.82, 6.14, 2.63],\n",
              " [12.5, 6.99, 4.14, 3.24, 3.68],\n",
              " [6.9, 7.5, 3.17, 6.78, 5.36, 4.16, 4.66, 4.62],\n",
              " [9.49, 0.111, 7.05, 4.96],\n",
              " [6.51, 4.98, 6.54, 5.12],\n",
              " [3.69],\n",
              " [4.89, 5.16, 7.83, 8.38, 6.3, 4.62, 4.41, 2.9, 3.54],\n",
              " ...,\n",
              " [2.28, 3.78],\n",
              " [4.92, 4.43, 4.37, 3.54],\n",
              " [7.45, 6.52, 7.59, 4.74, 4.27, 4.32, 5.01, 4, 4.23],\n",
              " [4.83, 5.8, 4.85],\n",
              " [3.62, 3.87],\n",
              " [6.04, 4.84, 4.29],\n",
              " [5.33],\n",
              " [10.8, 9.75, 6.52, 5.45, 3.94, 3.42],\n",
              " [3.88, 4.47]]\n",
              "------------------------------------------------------\n",
              "backend: cpu\n",
              "nbytes: 1.1 kB\n",
              "type: 40 * var * float32[parameters={&quot;__doc__&quot;: &quot;mass&quot;}]</pre>"
            ],
            "text/plain": [
              "<Array [[11.7, 8.94, ..., 3.81, 4.23], ...] type='40 * var * float32[parame...'>"
            ]
          },
          "metadata": {},
          "execution_count": 19
        }
      ]
    },
    {
      "cell_type": "code",
      "source": [],
      "metadata": {
        "id": "lF3hLZ7w2741"
      },
      "execution_count": null,
      "outputs": []
    },
    {
      "cell_type": "markdown",
      "source": [
        "## Zipper with virtual arrays"
      ],
      "metadata": {
        "id": "l2Tw0AG7lWtF"
      }
    },
    {
      "cell_type": "markdown",
      "source": [
        "Let's load the same root file but as virtual arrays. Virtual arrays don't load the data from disk (or in other words don't materialize the data)."
      ],
      "metadata": {
        "id": "rClhlEKCOeqI"
      }
    },
    {
      "cell_type": "code",
      "source": [
        "# Create a TTree from root\n",
        "tree = uproot.open(\"nano_dy.root\")[\"Events\"]\n",
        "# to load virtual arrays\n",
        "access_log = [] # which of the data was materialized\n",
        "# TTree -> awkward.Array[awkward.Record[str, awkward.Array]]\n",
        "array = tree.virtual_arrays(ak_add_doc=True, access_log=access_log)"
      ],
      "metadata": {
        "id": "C1rpDTw4MVuU"
      },
      "execution_count": null,
      "outputs": []
    },
    {
      "cell_type": "markdown",
      "source": [
        "Calling zipper"
      ],
      "metadata": {
        "id": "gHAv_4-GmtRU"
      }
    },
    {
      "cell_type": "code",
      "source": [
        "restructure = NanoAOD(version=\"latest\")\n",
        "result = restructure(array)"
      ],
      "metadata": {
        "colab": {
          "base_uri": "https://localhost:8080/"
        },
        "id": "jsp649qomsJa",
        "outputId": "052b4bab-2675-4829-8060-1ca65db9ac47"
      },
      "execution_count": null,
      "outputs": [
        {
          "output_type": "stream",
          "name": "stderr",
          "text": [
            "/tmp/ipython-input-3166504516.py:2: RuntimeWarning: Missing cross-reference index for LowPtElectron_electronIdx => Electron\n",
            "  result = restructure(array)\n",
            "/tmp/ipython-input-3166504516.py:2: RuntimeWarning: Missing cross-reference index for LowPtElectron_genPartIdx => GenPart\n",
            "  result = restructure(array)\n",
            "/tmp/ipython-input-3166504516.py:2: RuntimeWarning: Missing cross-reference index for LowPtElectron_photonIdx => Photon\n",
            "  result = restructure(array)\n",
            "/tmp/ipython-input-3166504516.py:2: RuntimeWarning: Missing cross-reference index for FatJet_genJetAK8Idx => GenJetAK8\n",
            "  result = restructure(array)\n"
          ]
        }
      ]
    },
    {
      "cell_type": "code",
      "source": [
        "access_log"
      ],
      "metadata": {
        "colab": {
          "base_uri": "https://localhost:8080/"
        },
        "id": "uvtQDez4md3g",
        "outputId": "54812e17-3048-4503-d28b-638e9616cd77"
      },
      "execution_count": null,
      "outputs": [
        {
          "output_type": "execute_result",
          "data": {
            "text/plain": [
              "[]"
            ]
          },
          "metadata": {},
          "execution_count": 31
        }
      ]
    },
    {
      "cell_type": "code",
      "source": [
        "result"
      ],
      "metadata": {
        "colab": {
          "base_uri": "https://localhost:8080/",
          "height": 434
        },
        "id": "bu-9pM__l_lZ",
        "outputId": "2207bee5-4ff5-4315-8b9c-33c578e429c3"
      },
      "execution_count": null,
      "outputs": [
        {
          "output_type": "execute_result",
          "data": {
            "text/html": [
              "<pre>[{SoftActivityJetNjets2: ??, Flag: {...}, ...},\n",
              " {SoftActivityJetNjets2: ??, Flag: {...}, ...},\n",
              " {SoftActivityJetNjets2: ??, Flag: {...}, ...},\n",
              " {SoftActivityJetNjets2: ??, Flag: {...}, ...},\n",
              " {SoftActivityJetNjets2: ??, Flag: {...}, ...},\n",
              " {SoftActivityJetNjets2: ??, Flag: {...}, ...},\n",
              " {SoftActivityJetNjets2: ??, Flag: {...}, ...},\n",
              " {SoftActivityJetNjets2: ??, Flag: {...}, ...},\n",
              " {SoftActivityJetNjets2: ??, Flag: {...}, ...},\n",
              " {SoftActivityJetNjets2: ??, Flag: {...}, ...},\n",
              " ...,\n",
              " {SoftActivityJetNjets2: ??, Flag: {...}, ...},\n",
              " {SoftActivityJetNjets2: ??, Flag: {...}, ...},\n",
              " {SoftActivityJetNjets2: ??, Flag: {...}, ...},\n",
              " {SoftActivityJetNjets2: ??, Flag: {...}, ...},\n",
              " {SoftActivityJetNjets2: ??, Flag: {...}, ...},\n",
              " {SoftActivityJetNjets2: ??, Flag: {...}, ...},\n",
              " {SoftActivityJetNjets2: ??, Flag: {...}, ...},\n",
              " {SoftActivityJetNjets2: ??, Flag: {...}, ...},\n",
              " {SoftActivityJetNjets2: ??, Flag: {...}, ...}]\n",
              "-----------------------------------------------\n",
              "backend: cpu\n",
              "nbytes: unknown\n",
              "type: 40 * event</pre>"
            ],
            "text/plain": [
              "<NanoEventsArray [<NanoAOD event>, ...] type='40 * event'>"
            ]
          },
          "metadata": {},
          "execution_count": 32
        }
      ]
    },
    {
      "cell_type": "code",
      "source": [
        "result.Jet"
      ],
      "metadata": {
        "id": "wIoqL9vqx_NG",
        "colab": {
          "base_uri": "https://localhost:8080/",
          "height": 642
        },
        "outputId": "37ef9229-b480-400d-99d1-d59338784fed"
      },
      "execution_count": null,
      "outputs": [
        {
          "output_type": "execute_result",
          "data": {
            "text/html": [
              "<pre>[??,\n",
              " ??,\n",
              " ??,\n",
              " ??,\n",
              " ??,\n",
              " ??,\n",
              " ??,\n",
              " ??,\n",
              " ??,\n",
              " ??,\n",
              " ...,\n",
              " ??,\n",
              " ??,\n",
              " ??,\n",
              " ??,\n",
              " ??,\n",
              " ??,\n",
              " ??,\n",
              " ??,\n",
              " ??]\n",
              "-----\n",
              "backend: cpu\n",
              "nbytes: unknown\n",
              "type: 40 * var * Jet[\n",
              "    mass: float32[parameters={&quot;__doc__&quot;: &quot;mass&quot;}],\n",
              "    rawFactor: float32[parameters={&quot;__doc__&quot;: &quot;1 - Factor to get back to raw pT&quot;}],\n",
              "    btagCMVA: float32[parameters={&quot;__doc__&quot;: &quot;CMVA V2 btag discriminator&quot;}],\n",
              "    bRegRes: float32[parameters={&quot;__doc__&quot;: &quot;res on pt corrected with b-jet regression&quot;}],\n",
              "    cleanmask: uint8[parameters={&quot;__doc__&quot;: &quot;simple cleaning mask with priority to leptons&quot;}],\n",
              "    eta: float32[parameters={&quot;__doc__&quot;: &quot;eta&quot;}],\n",
              "    partonFlavour: int32[parameters={&quot;__doc__&quot;: &quot;flavour from parton matching&quot;}],\n",
              "    muonSubtrFactor: float32[parameters={&quot;__doc__&quot;: &quot;1-(muon-subtracted raw pt)/(raw pt)&quot;}],\n",
              "    jercCHPUF: float32[parameters={&quot;__doc__&quot;: &quot;Pileup Charged Hadron Energy Fraction with the JERC group definition&quot;}],\n",
              "    puId: int32[parameters={&quot;__doc__&quot;: &quot;Pilup ID flags&quot;}],\n",
              "    ...\n",
              "parameters={&quot;collection_name&quot;: &quot;Jet&quot;, &quot;__doc__&quot;: &quot;slimmedJets, i.e. ak4 PFJets CHS with JECs applied, after basic selection (pt &gt; 15)&quot;}]</pre>"
            ],
            "text/plain": [
              "<JetArray [??, ??, ??, ??, ..., ??, ??, ??, ??] type='40 * var * Jet[mass: ...'>"
            ]
          },
          "metadata": {},
          "execution_count": 33
        }
      ]
    },
    {
      "cell_type": "code",
      "source": [
        "result[0].Jet"
      ],
      "metadata": {
        "colab": {
          "base_uri": "https://localhost:8080/",
          "height": 382
        },
        "id": "Yoqv6woll9UZ",
        "outputId": "a5d199cc-7408-4a98-cc7c-ba839b6d4ae5"
      },
      "execution_count": null,
      "outputs": [
        {
          "output_type": "execute_result",
          "data": {
            "text/html": [
              "<pre>[{mass: ??, rawFactor: ??, btagCMVA: ??, bRegRes: ??, cleanmask: ??, ...},\n",
              " {mass: ??, rawFactor: ??, btagCMVA: ??, bRegRes: ??, cleanmask: ??, ...},\n",
              " {mass: ??, rawFactor: ??, btagCMVA: ??, bRegRes: ??, cleanmask: ??, ...},\n",
              " {mass: ??, rawFactor: ??, btagCMVA: ??, bRegRes: ??, cleanmask: ??, ...},\n",
              " {mass: ??, rawFactor: ??, btagCMVA: ??, bRegRes: ??, cleanmask: ??, ...}]\n",
              "--------------------------------------------------------------------------\n",
              "backend: cpu\n",
              "nbytes: unknown\n",
              "type: 5 * Jet[\n",
              "    mass: float32[parameters={&quot;__doc__&quot;: &quot;mass&quot;}],\n",
              "    rawFactor: float32[parameters={&quot;__doc__&quot;: &quot;1 - Factor to get back to raw pT&quot;}],\n",
              "    btagCMVA: float32[parameters={&quot;__doc__&quot;: &quot;CMVA V2 btag discriminator&quot;}],\n",
              "    bRegRes: float32[parameters={&quot;__doc__&quot;: &quot;res on pt corrected with b-jet regression&quot;}],\n",
              "    cleanmask: uint8[parameters={&quot;__doc__&quot;: &quot;simple cleaning mask with priority to leptons&quot;}],\n",
              "    eta: float32[parameters={&quot;__doc__&quot;: &quot;eta&quot;}],\n",
              "    partonFlavour: int32[parameters={&quot;__doc__&quot;: &quot;flavour from parton matching&quot;}],\n",
              "    muonSubtrFactor: float32[parameters={&quot;__doc__&quot;: &quot;1-(muon-subtracted raw pt)/(raw pt)&quot;}],\n",
              "    jercCHPUF: float32[parameters={&quot;__doc__&quot;: &quot;Pileup Charged Hadron Energy Fraction with the JERC group definition&quot;}],\n",
              "    puId: int32[parameters={&quot;__doc__&quot;: &quot;Pilup ID flags&quot;}],\n",
              "    ...\n",
              "parameters={&quot;collection_name&quot;: &quot;Jet&quot;, &quot;__doc__&quot;: &quot;slimmedJets, i.e. ak4 PFJets CHS with JECs applied, after basic selection (pt &gt; 15)&quot;}]</pre>"
            ],
            "text/plain": [
              "<JetArray [Jet, ...] type='5 * Jet[mass: float32[parameters={\"__doc__\": \"ma...'>"
            ]
          },
          "metadata": {},
          "execution_count": 34
        }
      ]
    },
    {
      "cell_type": "code",
      "source": [
        "access_log"
      ],
      "metadata": {
        "colab": {
          "base_uri": "https://localhost:8080/"
        },
        "id": "yDcMOBodmwYq",
        "outputId": "2503412b-852a-4518-fc1b-5f1135e1893d"
      },
      "execution_count": null,
      "outputs": [
        {
          "output_type": "execute_result",
          "data": {
            "text/plain": [
              "[Accessed(branch='nJet', buffer_key=\"('<root>', 'nJet')-data\")]"
            ]
          },
          "metadata": {},
          "execution_count": 35
        }
      ]
    },
    {
      "cell_type": "code",
      "source": [
        "array.nJet"
      ],
      "metadata": {
        "colab": {
          "base_uri": "https://localhost:8080/",
          "height": 434
        },
        "id": "WqMr7PjgmfxA",
        "outputId": "f9ad51cd-c408-4703-9ea8-a833404d9c0b"
      },
      "execution_count": null,
      "outputs": [
        {
          "output_type": "execute_result",
          "data": {
            "text/html": [
              "<pre>[5,\n",
              " 8,\n",
              " 5,\n",
              " 3,\n",
              " 5,\n",
              " 8,\n",
              " 4,\n",
              " 4,\n",
              " 1,\n",
              " 9,\n",
              " ...,\n",
              " 2,\n",
              " 4,\n",
              " 9,\n",
              " 3,\n",
              " 2,\n",
              " 3,\n",
              " 1,\n",
              " 6,\n",
              " 2]\n",
              "-----\n",
              "backend: cpu\n",
              "nbytes: 160 B\n",
              "type: 40 * uint32[parameters={&quot;__doc__&quot;: &quot;slimmedJets, i.e. ak4 PFJets CHS with JECs applied, after basic selection (pt &gt; 15)&quot;}]</pre>"
            ],
            "text/plain": [
              "<Array [5, 8, 5, 3, 5, 8, ..., 2, 3, 1, 6, 2] type='40 * uint32[parameters=...'>"
            ]
          },
          "metadata": {},
          "execution_count": 36
        }
      ]
    },
    {
      "cell_type": "markdown",
      "source": [
        "## Example calculation of a Z-peak"
      ],
      "metadata": {
        "id": "keHwbaBGmm1K"
      }
    },
    {
      "cell_type": "code",
      "source": [
        "zcands = awkward.combinations(result.Muon, 2)"
      ],
      "metadata": {
        "id": "wzFnbttVlkIr"
      },
      "execution_count": null,
      "outputs": []
    },
    {
      "cell_type": "code",
      "source": [
        "access_log"
      ],
      "metadata": {
        "colab": {
          "base_uri": "https://localhost:8080/"
        },
        "id": "tAuBFo1um6GS",
        "outputId": "886809df-dee6-4e73-c971-b8e8f0f55c8c"
      },
      "execution_count": null,
      "outputs": [
        {
          "output_type": "execute_result",
          "data": {
            "text/plain": [
              "[Accessed(branch='nMuon', buffer_key=\"('<root>', 'nMuon')-data\")]"
            ]
          },
          "metadata": {},
          "execution_count": 42
        }
      ]
    },
    {
      "cell_type": "code",
      "source": [
        "# count invariant mass\n",
        "mass = awkward.flatten((zcands[\"0\"] + zcands[\"1\"]).mass)"
      ],
      "metadata": {
        "id": "129j6Ju5llf4"
      },
      "execution_count": null,
      "outputs": []
    },
    {
      "cell_type": "markdown",
      "source": [
        "We can see that for this, 4-vector coordinates were loaded, which were used to add the combinations"
      ],
      "metadata": {
        "id": "qZIRYSjLoh6f"
      }
    },
    {
      "cell_type": "code",
      "source": [
        "access_log"
      ],
      "metadata": {
        "colab": {
          "base_uri": "https://localhost:8080/"
        },
        "id": "Vfu6gt-Em8Aj",
        "outputId": "9b484228-5769-47f0-f64d-799ca30a6a64"
      },
      "execution_count": null,
      "outputs": [
        {
          "output_type": "execute_result",
          "data": {
            "text/plain": [
              "[Accessed(branch='nMuon', buffer_key=\"('<root>', 'nMuon')-data\"),\n",
              " Accessed(branch='Muon_pt', buffer_key=\"('<root>', 'Muon_pt', None)-data\"),\n",
              " Accessed(branch='Muon_phi', buffer_key=\"('<root>', 'Muon_phi', None)-data\"),\n",
              " Accessed(branch='Muon_eta', buffer_key=\"('<root>', 'Muon_eta', None)-data\"),\n",
              " Accessed(branch='Muon_mass', buffer_key=\"('<root>', 'Muon_mass', None)-data\"),\n",
              " Accessed(branch='Muon_charge', buffer_key=\"('<root>', 'Muon_charge', None)-data\")]"
            ]
          },
          "metadata": {},
          "execution_count": 44
        }
      ]
    },
    {
      "cell_type": "code",
      "source": [
        "%%capture\n",
        "!pip install \"hist[plot]\""
      ],
      "metadata": {
        "id": "GdB-drMEnWG6"
      },
      "execution_count": null,
      "outputs": []
    },
    {
      "cell_type": "code",
      "source": [
        "from hist import Hist\n",
        "\n",
        "Hist.new.Reg(10, 80, 100).Double().fill(mass).plot()"
      ],
      "metadata": {
        "colab": {
          "base_uri": "https://localhost:8080/",
          "height": 466
        },
        "id": "HlcOtgfHlm6S",
        "outputId": "bab7dca0-007e-4019-8a72-df95aa8e7383"
      },
      "execution_count": null,
      "outputs": [
        {
          "output_type": "execute_result",
          "data": {
            "text/plain": [
              "[StairsArtists(stairs=<matplotlib.patches.StepPatch object at 0x7f954fb1f510>, errorbar=<ErrorbarContainer object of 3 artists>, legend_artist=<ErrorbarContainer object of 3 artists>)]"
            ]
          },
          "metadata": {},
          "execution_count": 46
        },
        {
          "output_type": "display_data",
          "data": {
            "text/plain": [
              "<Figure size 640x480 with 1 Axes>"
            ],
            "image/png": "[encoded data removed]"
          },
          "metadata": {}
        }
      ]
    },
    {
      "cell_type": "code",
      "source": [
        "result.Muon"
      ],
      "metadata": {
        "colab": {
          "base_uri": "https://localhost:8080/",
          "height": 662
        },
        "id": "uw2KlUDKwlSe",
        "outputId": "017dd89e-4ef2-4ff0-f6a2-c659bdd348a9"
      },
      "execution_count": null,
      "outputs": [
        {
          "output_type": "execute_result",
          "data": {
            "text/html": [
              "<pre>[[],\n",
              " [],\n",
              " [],\n",
              " [],\n",
              " [Muon, Muon],\n",
              " [{mvaTTH: ??, triggerIdLoose: ??, pfRelIso03_chg: ??, genPartIdx: ??, ...}],\n",
              " [Muon, Muon],\n",
              " [],\n",
              " [],\n",
              " [],\n",
              " ...,\n",
              " [{mvaTTH: ??, triggerIdLoose: ??, pfRelIso03_chg: ??, genPartIdx: ??, ...}],\n",
              " [],\n",
              " [],\n",
              " [{mvaTTH: ??, triggerIdLoose: ??, pfRelIso03_chg: ??, genPartIdx: ??, ...}],\n",
              " [],\n",
              " [],\n",
              " [],\n",
              " [],\n",
              " []]\n",
              "-----------------------------------------------------------------------------\n",
              "backend: cpu\n",
              "nbytes: 3.4 kB\n",
              "type: 40 * var * Muon[\n",
              "    mvaTTH: float32[parameters={&quot;__doc__&quot;: &quot;TTH MVA lepton ID score&quot;}],\n",
              "    triggerIdLoose: bool[parameters={&quot;__doc__&quot;: &quot;TriggerIdLoose ID&quot;}],\n",
              "    pfRelIso03_chg: float32[parameters={&quot;__doc__&quot;: &quot;PF relative isolation dR=0.3, charged component&quot;}],\n",
              "    genPartIdx: int32[parameters={&quot;__doc__&quot;: &quot;Index into genParticle list for MC matching to status==1 muons&quot;}],\n",
              "    dz: float32[parameters={&quot;__doc__&quot;: &quot;dz (with sign) wrt first PV, in cm&quot;}],\n",
              "    softMva: float32[parameters={&quot;__doc__&quot;: &quot;soft MVA ID score&quot;}],\n",
              "    charge: int32[parameters={&quot;__doc__&quot;: &quot;electric charge&quot;}],\n",
              "    tightId: bool[parameters={&quot;__doc__&quot;: &quot;cut-based ID, tight WP&quot;}],\n",
              "    jetIdx: int32[parameters={&quot;__doc__&quot;: &quot;index of the associated jet (-1 if none)&quot;}],\n",
              "    miniPFRelIso_all: float32[parameters={&quot;__doc__&quot;: &quot;mini PF relative isolation, total (with scaled rho*EA PU corrections)&quot;}],\n",
              "    ...\n",
              "parameters={&quot;collection_name&quot;: &quot;Muon&quot;, &quot;__doc__&quot;: &quot;slimmedMuons after basic selection (pt &gt; 3 &amp;&amp; (passed(&#x27;CutBasedIdLoose&#x27;) || passed(&#x27;SoftCutBasedId&#x27;) || passed(&#x27;SoftMvaId&#x27;) || passed(&#x27;CutBasedIdGlobalHighPt&#x27;) || passed(&#x27;CutBasedIdTrkHighPt&#x27;)))&quot;}]</pre>"
            ],
            "text/plain": [
              "<MuonArray [[], [], [], [], ..., [], [], [], []] type='40 * var * Muon[mvaT...'>"
            ]
          },
          "metadata": {},
          "execution_count": 47
        }
      ]
    },
    {
      "cell_type": "code",
      "source": [
        "result.Muon[4][0].show(300)"
      ],
      "metadata": {
        "colab": {
          "base_uri": "https://localhost:8080/"
        },
        "id": "vBe5pMDKrmC6",
        "outputId": "9082dcb0-4143-4435-8af6-eb042b14239a"
      },
      "execution_count": null,
      "outputs": [
        {
          "output_type": "stream",
          "name": "stdout",
          "text": [
            "{mvaTTH: ??,\n",
            " triggerIdLoose: ??,\n",
            " pfRelIso03_chg: ??,\n",
            " genPartIdx: ??,\n",
            " dz: ??,\n",
            " softMva: ??,\n",
            " charge: -1,\n",
            " tightId: ??,\n",
            " jetIdx: ??,\n",
            " miniPFRelIso_all: ??,\n",
            " isPFcand: ??,\n",
            " looseId: ??,\n",
            " dxy: ??,\n",
            " mediumId: ??,\n",
            " ip3d: ??,\n",
            " tunepRelPt: ??,\n",
            " mvaId: ??,\n",
            " inTimeMuon: ??,\n",
            " multiIsoId: ??,\n",
            " eta: 0.714,\n",
            " sip3d: ??,\n",
            " genPartFlav: ??,\n",
            " jetRelIso: ??,\n",
            " pfIsoId: ??,\n",
            " cleanmask: ??,\n",
            " pt: 76.8,\n",
            " highPtId: ??,\n",
            " phi: 1.64,\n",
            " dxyErr: ??,\n",
            " nStations: ??,\n",
            " tkRelIso: ??,\n",
            " nTrackerLayers: ??,\n",
            " mvaLowPt: ??,\n",
            " mass: 0.106,\n",
            " segmentComp: ??,\n",
            " pfRelIso03_all: ??,\n",
            " softId: ??,\n",
            " miniIsoId: ??,\n",
            " tkIsoId: ??,\n",
            " fsrPhotonIdx: ??,\n",
            " pdgId: ??,\n",
            " jetPtRelv2: ??,\n",
            " dzErr: ??,\n",
            " mediumPromptId: ??,\n",
            " softMvaId: ??,\n",
            " miniPFRelIso_chg: ??,\n",
            " pfRelIso04_all: ??,\n",
            " isGlobal: ??,\n",
            " tightCharge: ??,\n",
            " isTracker: ??,\n",
            " ptErr: ??,\n",
            " genPartIdxG: ??,\n",
            " jetIdxG: ??,\n",
            " fsrPhotonIdxG: ??}\n"
          ]
        }
      ]
    },
    {
      "cell_type": "code",
      "source": [],
      "metadata": {
        "id": "yATen57bunvg"
      },
      "execution_count": null,
      "outputs": []
    }
  ]
}