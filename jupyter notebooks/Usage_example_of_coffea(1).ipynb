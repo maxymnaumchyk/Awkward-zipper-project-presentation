{
  "nbformat": 4,
  "nbformat_minor": 0,
  "metadata": {
    "colab": {
      "provenance": []
    },
    "kernelspec": {
      "name": "python3",
      "display_name": "Python 3"
    },
    "language_info": {
      "name": "python"
    }
  },
  "cells": [
    {
      "cell_type": "markdown",
      "source": [
        "## Getting a test root file"
      ],
      "metadata": {
        "id": "XrvvmYYtOmaG"
      }
    },
    {
      "cell_type": "code",
      "source": [
        "!wget {'https://raw.githubusercontent.com/scikit-hep/coffea/refs/heads/master/tests/samples/nano_dy.root'}"
      ],
      "metadata": {
        "colab": {
          "base_uri": "https://localhost:8080/"
        },
        "id": "a4USZp3l9V6q",
        "outputId": "f91c080a-2b10-457c-9bc9-7d8d60a8da19"
      },
      "execution_count": null,
      "outputs": [
        {
          "output_type": "stream",
          "name": "stdout",
          "text": [
            "--2025-08-03 20:26:27--  https://raw.githubusercontent.com/scikit-hep/coffea/refs/heads/master/tests/samples/nano_dy.root\n",
            "Resolving raw.githubusercontent.com (raw.githubusercontent.com)... 185.199.111.133, 185.199.108.133, 185.199.109.133, ...\n",
            "Connecting to raw.githubusercontent.com (raw.githubusercontent.com)|185.199.111.133|:443... connected.\n",
            "HTTP request sent, awaiting response... 200 OK\n",
            "Length: 352599 (344K) [application/octet-stream]\n",
            "Saving to: ‘nano_dy.root’\n",
            "\n",
            "nano_dy.root        100%[===================>] 344.33K  --.-KB/s    in 0.06s   \n",
            "\n",
            "2025-08-03 20:26:27 (5.34 MB/s) - ‘nano_dy.root’ saved [352599/352599]\n",
            "\n"
          ]
        }
      ]
    },
    {
      "cell_type": "markdown",
      "source": [
        "## Installing libraries"
      ],
      "metadata": {
        "id": "ZmN9E3CXOhrX"
      }
    },
    {
      "cell_type": "code",
      "source": [
        "!pip install coffea"
      ],
      "metadata": {
        "colab": {
          "base_uri": "https://localhost:8080/"
        },
        "id": "VOuRVPrL5KCN",
        "outputId": "5ff44aca-254c-44ad-fb9a-2fe1dc8fc78b"
      },
      "execution_count": null,
      "outputs": [
        {
          "output_type": "stream",
          "name": "stdout",
          "text": [
            "Collecting coffea\n",
            "  Downloading coffea-2025.7.3-py3-none-any.whl.metadata (8.1 kB)\n",
            "Requirement already satisfied: aiohttp in /usr/local/lib/python3.11/dist-packages (from coffea) (3.12.14)\n",
            "Collecting awkward>=2.8.2 (from coffea)\n",
            "  Downloading awkward-2.8.6-py3-none-any.whl.metadata (7.5 kB)\n",
            "Requirement already satisfied: cachetools in /usr/local/lib/python3.11/dist-packages (from coffea) (5.5.2)\n",
            "Requirement already satisfied: cloudpickle>=1.2.3 in /usr/local/lib/python3.11/dist-packages (from coffea) (3.1.1)\n",
            "Collecting correctionlib>=2.6.0 (from coffea)\n",
            "  Downloading correctionlib-2.7.0-cp311-cp311-manylinux_2_17_x86_64.manylinux2014_x86_64.whl.metadata (7.3 kB)\n",
            "Collecting dask-awkward>=2025.5.0 (from coffea)\n",
            "  Downloading dask_awkward-2025.5.0-py3-none-any.whl.metadata (3.9 kB)\n",
            "Collecting dask-histogram>=2025.2.0 (from coffea)\n",
            "  Downloading dask_histogram-2025.2.0-py3-none-any.whl.metadata (3.8 kB)\n",
            "Requirement already satisfied: dask>=2024.3.0 in /usr/local/lib/python3.11/dist-packages (from dask[array]>=2024.3.0->coffea) (2025.5.0)\n",
            "Collecting hist>=2 (from coffea)\n",
            "  Downloading hist-2.8.1-py3-none-any.whl.metadata (16 kB)\n",
            "Collecting lz4 (from coffea)\n",
            "  Downloading lz4-4.4.4-cp311-cp311-manylinux_2_17_x86_64.manylinux2014_x86_64.whl.metadata (3.8 kB)\n",
            "Requirement already satisfied: matplotlib>=3 in /usr/local/lib/python3.11/dist-packages (from coffea) (3.10.0)\n",
            "Collecting mplhep>=0.1.18 (from coffea)\n",
            "  Downloading mplhep-0.4.0-py3-none-any.whl.metadata (10 kB)\n",
            "Requirement already satisfied: numba>=0.58.1 in /usr/local/lib/python3.11/dist-packages (from coffea) (0.60.0)\n",
            "Requirement already satisfied: numpy>=1.22 in /usr/local/lib/python3.11/dist-packages (from coffea) (2.0.2)\n",
            "Requirement already satisfied: packaging in /usr/local/lib/python3.11/dist-packages (from coffea) (25.0)\n",
            "Requirement already satisfied: pandas in /usr/local/lib/python3.11/dist-packages (from coffea) (2.2.2)\n",
            "Requirement already satisfied: pyarrow<21.0.0,>=6.0.0 in /usr/local/lib/python3.11/dist-packages (from coffea) (18.1.0)\n",
            "Requirement already satisfied: requests in /usr/local/lib/python3.11/dist-packages (from coffea) (2.32.3)\n",
            "Requirement already satisfied: scipy>=1.1.0 in /usr/local/lib/python3.11/dist-packages (from coffea) (1.16.0)\n",
            "Requirement already satisfied: toml>=0.10.2 in /usr/local/lib/python3.11/dist-packages (from coffea) (0.10.2)\n",
            "Requirement already satisfied: tqdm>=4.27.0 in /usr/local/lib/python3.11/dist-packages (from coffea) (4.67.1)\n",
            "Collecting uproot>=5.6.0 (from coffea)\n",
            "  Downloading uproot-5.6.4-py3-none-any.whl.metadata (34 kB)\n",
            "Collecting vector!=1.6.0,>=1.4.1 (from coffea)\n",
            "  Downloading vector-1.6.3-py3-none-any.whl.metadata (16 kB)\n",
            "Collecting awkward-cpp==48 (from awkward>=2.8.2->coffea)\n",
            "  Downloading awkward_cpp-48-cp311-cp311-manylinux_2_27_x86_64.manylinux_2_28_x86_64.whl.metadata (2.2 kB)\n",
            "Requirement already satisfied: fsspec>=2022.11.0 in /usr/local/lib/python3.11/dist-packages (from awkward>=2.8.2->coffea) (2025.3.0)\n",
            "Requirement already satisfied: importlib-metadata>=4.13.0 in /usr/local/lib/python3.11/dist-packages (from awkward>=2.8.2->coffea) (8.7.0)\n",
            "Requirement already satisfied: pydantic>=2 in /usr/local/lib/python3.11/dist-packages (from correctionlib>=2.6.0->coffea) (2.11.7)\n",
            "Requirement already satisfied: rich in /usr/local/lib/python3.11/dist-packages (from correctionlib>=2.6.0->coffea) (13.9.4)\n",
            "Requirement already satisfied: click>=8.1 in /usr/local/lib/python3.11/dist-packages (from dask>=2024.3.0->dask[array]>=2024.3.0->coffea) (8.2.1)\n",
            "Requirement already satisfied: partd>=1.4.0 in /usr/local/lib/python3.11/dist-packages (from dask>=2024.3.0->dask[array]>=2024.3.0->coffea) (1.4.2)\n",
            "Requirement already satisfied: pyyaml>=5.3.1 in /usr/local/lib/python3.11/dist-packages (from dask>=2024.3.0->dask[array]>=2024.3.0->coffea) (6.0.2)\n",
            "Requirement already satisfied: toolz>=0.10.0 in /usr/local/lib/python3.11/dist-packages (from dask>=2024.3.0->dask[array]>=2024.3.0->coffea) (0.12.1)\n",
            "Collecting dask>=2024.3.0 (from dask[array]>=2024.3.0->coffea)\n",
            "  Downloading dask-2025.3.0-py3-none-any.whl.metadata (3.8 kB)\n",
            "Requirement already satisfied: typing-extensions>=4.8.0 in /usr/local/lib/python3.11/dist-packages (from dask-awkward>=2025.5.0->coffea) (4.14.1)\n",
            "Collecting boost-histogram>=1.3.2 (from dask-histogram>=2025.2.0->coffea)\n",
            "  Downloading boost_histogram-1.5.2-cp311-cp311-manylinux_2_17_x86_64.manylinux2014_x86_64.whl.metadata (23 kB)\n",
            "INFO: pip is looking at multiple versions of dask[array] to determine which version is compatible with other requirements. This could take a while.\n",
            "Collecting dask[array]>=2024.3.0 (from coffea)\n",
            "  Downloading dask-2025.7.0-py3-none-any.whl.metadata (3.8 kB)\n",
            "  Downloading dask-2025.5.1-py3-none-any.whl.metadata (3.8 kB)\n",
            "  Downloading dask-2025.4.1-py3-none-any.whl.metadata (3.8 kB)\n",
            "  Downloading dask-2025.4.0-py3-none-any.whl.metadata (3.8 kB)\n",
            "Collecting histoprint>=2.2.0 (from hist>=2->coffea)\n",
            "  Downloading histoprint-2.6.0-py3-none-any.whl.metadata (17 kB)\n",
            "Requirement already satisfied: contourpy>=1.0.1 in /usr/local/lib/python3.11/dist-packages (from matplotlib>=3->coffea) (1.3.2)\n",
            "Requirement already satisfied: cycler>=0.10 in /usr/local/lib/python3.11/dist-packages (from matplotlib>=3->coffea) (0.12.1)\n",
            "Requirement already satisfied: fonttools>=4.22.0 in /usr/local/lib/python3.11/dist-packages (from matplotlib>=3->coffea) (4.59.0)\n",
            "Requirement already satisfied: kiwisolver>=1.3.1 in /usr/local/lib/python3.11/dist-packages (from matplotlib>=3->coffea) (1.4.8)\n",
            "Requirement already satisfied: pillow>=8 in /usr/local/lib/python3.11/dist-packages (from matplotlib>=3->coffea) (11.3.0)\n",
            "Requirement already satisfied: pyparsing>=2.3.1 in /usr/local/lib/python3.11/dist-packages (from matplotlib>=3->coffea) (3.2.3)\n",
            "Requirement already satisfied: python-dateutil>=2.7 in /usr/local/lib/python3.11/dist-packages (from matplotlib>=3->coffea) (2.9.0.post0)\n",
            "Collecting mplhep-data>=0.0.4 (from mplhep>=0.1.18->coffea)\n",
            "  Downloading mplhep_data-0.0.4-py3-none-any.whl.metadata (3.4 kB)\n",
            "Collecting uhi>=0.2.0 (from mplhep>=0.1.18->coffea)\n",
            "  Downloading uhi-0.5.0-py3-none-any.whl.metadata (7.5 kB)\n",
            "Requirement already satisfied: llvmlite<0.44,>=0.43.0dev0 in /usr/local/lib/python3.11/dist-packages (from numba>=0.58.1->coffea) (0.43.0)\n",
            "Requirement already satisfied: cramjam>=2.5.0 in /usr/local/lib/python3.11/dist-packages (from uproot>=5.6.0->coffea) (2.10.0)\n",
            "Requirement already satisfied: xxhash in /usr/local/lib/python3.11/dist-packages (from uproot>=5.6.0->coffea) (3.5.0)\n",
            "Requirement already satisfied: aiohappyeyeballs>=2.5.0 in /usr/local/lib/python3.11/dist-packages (from aiohttp->coffea) (2.6.1)\n",
            "Requirement already satisfied: aiosignal>=1.4.0 in /usr/local/lib/python3.11/dist-packages (from aiohttp->coffea) (1.4.0)\n",
            "Requirement already satisfied: attrs>=17.3.0 in /usr/local/lib/python3.11/dist-packages (from aiohttp->coffea) (25.3.0)\n",
            "Requirement already satisfied: frozenlist>=1.1.1 in /usr/local/lib/python3.11/dist-packages (from aiohttp->coffea) (1.7.0)\n",
            "Requirement already satisfied: multidict<7.0,>=4.5 in /usr/local/lib/python3.11/dist-packages (from aiohttp->coffea) (6.6.3)\n",
            "Requirement already satisfied: propcache>=0.2.0 in /usr/local/lib/python3.11/dist-packages (from aiohttp->coffea) (0.3.2)\n",
            "Requirement already satisfied: yarl<2.0,>=1.17.0 in /usr/local/lib/python3.11/dist-packages (from aiohttp->coffea) (1.20.1)\n",
            "Requirement already satisfied: pytz>=2020.1 in /usr/local/lib/python3.11/dist-packages (from pandas->coffea) (2025.2)\n",
            "Requirement already satisfied: tzdata>=2022.7 in /usr/local/lib/python3.11/dist-packages (from pandas->coffea) (2025.2)\n",
            "Requirement already satisfied: charset-normalizer<4,>=2 in /usr/local/lib/python3.11/dist-packages (from requests->coffea) (3.4.2)\n",
            "Requirement already satisfied: idna<4,>=2.5 in /usr/local/lib/python3.11/dist-packages (from requests->coffea) (3.10)\n",
            "Requirement already satisfied: urllib3<3,>=1.21.1 in /usr/local/lib/python3.11/dist-packages (from requests->coffea) (2.5.0)\n",
            "Requirement already satisfied: certifi>=2017.4.17 in /usr/local/lib/python3.11/dist-packages (from requests->coffea) (2025.7.14)\n",
            "Requirement already satisfied: zipp>=3.20 in /usr/local/lib/python3.11/dist-packages (from importlib-metadata>=4.13.0->awkward>=2.8.2->coffea) (3.23.0)\n",
            "Requirement already satisfied: locket in /usr/local/lib/python3.11/dist-packages (from partd>=1.4.0->dask>=2024.3.0->dask[array]>=2024.3.0->coffea) (1.0.0)\n",
            "Requirement already satisfied: annotated-types>=0.6.0 in /usr/local/lib/python3.11/dist-packages (from pydantic>=2->correctionlib>=2.6.0->coffea) (0.7.0)\n",
            "Requirement already satisfied: pydantic-core==2.33.2 in /usr/local/lib/python3.11/dist-packages (from pydantic>=2->correctionlib>=2.6.0->coffea) (2.33.2)\n",
            "Requirement already satisfied: typing-inspection>=0.4.0 in /usr/local/lib/python3.11/dist-packages (from pydantic>=2->correctionlib>=2.6.0->coffea) (0.4.1)\n",
            "Requirement already satisfied: six>=1.5 in /usr/local/lib/python3.11/dist-packages (from python-dateutil>=2.7->matplotlib>=3->coffea) (1.17.0)\n",
            "Requirement already satisfied: markdown-it-py>=2.2.0 in /usr/local/lib/python3.11/dist-packages (from rich->correctionlib>=2.6.0->coffea) (3.0.0)\n",
            "Requirement already satisfied: pygments<3.0.0,>=2.13.0 in /usr/local/lib/python3.11/dist-packages (from rich->correctionlib>=2.6.0->coffea) (2.19.2)\n",
            "Requirement already satisfied: mdurl~=0.1 in /usr/local/lib/python3.11/dist-packages (from markdown-it-py>=2.2.0->rich->correctionlib>=2.6.0->coffea) (0.1.2)\n",
            "Downloading coffea-2025.7.3-py3-none-any.whl (281 kB)\n",
            "\u001b[2K   \u001b[90m━━━━━━━━━━━━━━━━━━━━━━━━━━━━━━━━━━━━━━━━\u001b[0m \u001b[32m281.9/281.9 kB\u001b[0m \u001b[31m6.9 MB/s\u001b[0m eta \u001b[36m0:00:00\u001b[0m\n",
            "\u001b[?25hDownloading awkward-2.8.6-py3-none-any.whl (886 kB)\n",
            "\u001b[2K   \u001b[90m━━━━━━━━━━━━━━━━━━━━━━━━━━━━━━━━━━━━━━━━\u001b[0m \u001b[32m886.8/886.8 kB\u001b[0m \u001b[31m23.8 MB/s\u001b[0m eta \u001b[36m0:00:00\u001b[0m\n",
            "\u001b[?25hDownloading awkward_cpp-48-cp311-cp311-manylinux_2_27_x86_64.manylinux_2_28_x86_64.whl (650 kB)\n",
            "\u001b[2K   \u001b[90m━━━━━━━━━━━━━━━━━━━━━━━━━━━━━━━━━━━━━━━━\u001b[0m \u001b[32m650.3/650.3 kB\u001b[0m \u001b[31m46.7 MB/s\u001b[0m eta \u001b[36m0:00:00\u001b[0m\n",
            "\u001b[?25hDownloading correctionlib-2.7.0-cp311-cp311-manylinux_2_17_x86_64.manylinux2014_x86_64.whl (436 kB)\n",
            "\u001b[2K   \u001b[90m━━━━━━━━━━━━━━━━━━━━━━━━━━━━━━━━━━━━━━━━\u001b[0m \u001b[32m436.1/436.1 kB\u001b[0m \u001b[31m39.1 MB/s\u001b[0m eta \u001b[36m0:00:00\u001b[0m\n",
            "\u001b[?25hDownloading dask_awkward-2025.5.0-py3-none-any.whl (90 kB)\n",
            "\u001b[2K   \u001b[90m━━━━━━━━━━━━━━━━━━━━━━━━━━━━━━━━━━━━━━━━\u001b[0m \u001b[32m90.1/90.1 kB\u001b[0m \u001b[31m9.3 MB/s\u001b[0m eta \u001b[36m0:00:00\u001b[0m\n",
            "\u001b[?25hDownloading dask-2025.3.0-py3-none-any.whl (1.4 MB)\n",
            "\u001b[2K   \u001b[90m━━━━━━━━━━━━━━━━━━━━━━━━━━━━━━━━━━━━━━━━\u001b[0m \u001b[32m1.4/1.4 MB\u001b[0m \u001b[31m51.2 MB/s\u001b[0m eta \u001b[36m0:00:00\u001b[0m\n",
            "\u001b[?25hDownloading dask_histogram-2025.2.0-py3-none-any.whl (27 kB)\n",
            "Downloading hist-2.8.1-py3-none-any.whl (40 kB)\n",
            "\u001b[2K   \u001b[90m━━━━━━━━━━━━━━━━━━━━━━━━━━━━━━━━━━━━━━━━\u001b[0m \u001b[32m40.9/40.9 kB\u001b[0m \u001b[31m4.1 MB/s\u001b[0m eta \u001b[36m0:00:00\u001b[0m\n",
            "\u001b[?25hDownloading mplhep-0.4.0-py3-none-any.whl (48 kB)\n",
            "\u001b[2K   \u001b[90m━━━━━━━━━━━━━━━━━━━━━━━━━━━━━━━━━━━━━━━━\u001b[0m \u001b[32m48.4/48.4 kB\u001b[0m \u001b[31m5.4 MB/s\u001b[0m eta \u001b[36m0:00:00\u001b[0m\n",
            "\u001b[?25hDownloading uproot-5.6.4-py3-none-any.whl (383 kB)\n",
            "\u001b[2K   \u001b[90m━━━━━━━━━━━━━━━━━━━━━━━━━━━━━━━━━━━━━━━━\u001b[0m \u001b[32m383.8/383.8 kB\u001b[0m \u001b[31m39.0 MB/s\u001b[0m eta \u001b[36m0:00:00\u001b[0m\n",
            "\u001b[?25hDownloading vector-1.6.3-py3-none-any.whl (179 kB)\n",
            "\u001b[2K   \u001b[90m━━━━━━━━━━━━━━━━━━━━━━━━━━━━━━━━━━━━━━━━\u001b[0m \u001b[32m179.6/179.6 kB\u001b[0m \u001b[31m20.0 MB/s\u001b[0m eta \u001b[36m0:00:00\u001b[0m\n",
            "\u001b[?25hDownloading lz4-4.4.4-cp311-cp311-manylinux_2_17_x86_64.manylinux2014_x86_64.whl (1.3 MB)\n",
            "\u001b[2K   \u001b[90m━━━━━━━━━━━━━━━━━━━━━━━━━━━━━━━━━━━━━━━━\u001b[0m \u001b[32m1.3/1.3 MB\u001b[0m \u001b[31m65.6 MB/s\u001b[0m eta \u001b[36m0:00:00\u001b[0m\n",
            "\u001b[?25hDownloading boost_histogram-1.5.2-cp311-cp311-manylinux_2_17_x86_64.manylinux2014_x86_64.whl (1.1 MB)\n",
            "\u001b[2K   \u001b[90m━━━━━━━━━━━━━━━━━━━━━━━━━━━━━━━━━━━━━━━━\u001b[0m \u001b[32m1.1/1.1 MB\u001b[0m \u001b[31m65.3 MB/s\u001b[0m eta \u001b[36m0:00:00\u001b[0m\n",
            "\u001b[?25hDownloading histoprint-2.6.0-py3-none-any.whl (16 kB)\n",
            "Downloading mplhep_data-0.0.4-py3-none-any.whl (9.1 MB)\n",
            "\u001b[2K   \u001b[90m━━━━━━━━━━━━━━━━━━━━━━━━━━━━━━━━━━━━━━━━\u001b[0m \u001b[32m9.1/9.1 MB\u001b[0m \u001b[31m20.1 MB/s\u001b[0m eta \u001b[36m0:00:00\u001b[0m\n",
            "\u001b[?25hDownloading uhi-0.5.0-py3-none-any.whl (13 kB)\n",
            "Installing collected packages: vector, uhi, mplhep-data, lz4, boost-histogram, awkward-cpp, histoprint, dask, awkward, uproot, mplhep, hist, dask-awkward, correctionlib, dask-histogram, coffea\n",
            "  Attempting uninstall: dask\n",
            "    Found existing installation: dask 2025.5.0\n",
            "    Uninstalling dask-2025.5.0:\n",
            "      Successfully uninstalled dask-2025.5.0\n",
            "\u001b[31mERROR: pip's dependency resolver does not currently take into account all the packages that are installed. This behaviour is the source of the following dependency conflicts.\n",
            "distributed 2025.5.0 requires dask==2025.5.0, but you have dask 2025.3.0 which is incompatible.\n",
            "rapids-dask-dependency 25.6.0 requires dask==2025.5.0, but you have dask 2025.3.0 which is incompatible.\u001b[0m\u001b[31m\n",
            "\u001b[0mSuccessfully installed awkward-2.8.6 awkward-cpp-48 boost-histogram-1.5.2 coffea-2025.7.3 correctionlib-2.7.0 dask-2025.3.0 dask-awkward-2025.5.0 dask-histogram-2025.2.0 hist-2.8.1 histoprint-2.6.0 lz4-4.4.4 mplhep-0.4.0 mplhep-data-0.0.4 uhi-0.5.0 uproot-5.6.4 vector-1.6.3\n"
          ]
        }
      ]
    },
    {
      "cell_type": "markdown",
      "source": [
        "## Coffea"
      ],
      "metadata": {
        "id": "dzbE1BdRiW81"
      }
    },
    {
      "cell_type": "code",
      "source": [
        "from coffea.nanoevents import NanoEventsFactory, NanoAODSchema\n",
        "\n",
        "fname = \"nano_dy.root\"\n",
        "events = NanoEventsFactory.from_root(\n",
        "    {fname: \"Events\"},\n",
        "    metadata={\"dataset\": \"DYJets\"},\n",
        "    schemaclass=NanoAODSchema,\n",
        "    mode=\"eager\",\n",
        ")"
      ],
      "metadata": {
        "colab": {
          "base_uri": "https://localhost:8080/"
        },
        "id": "GNxyG7waiYI-",
        "outputId": "e882270c-0942-4f23-bb52-d0b9a467f46c"
      },
      "execution_count": null,
      "outputs": [
        {
          "output_type": "stream",
          "name": "stderr",
          "text": [
            "/usr/local/lib/python3.11/dist-packages/coffea/nanoevents/schemas/nanoaod.py:264: RuntimeWarning: Missing cross-reference index for LowPtElectron_electronIdx => Electron\n",
            "  warnings.warn(\n",
            "/usr/local/lib/python3.11/dist-packages/coffea/nanoevents/schemas/nanoaod.py:264: RuntimeWarning: Missing cross-reference index for LowPtElectron_genPartIdx => GenPart\n",
            "  warnings.warn(\n",
            "/usr/local/lib/python3.11/dist-packages/coffea/nanoevents/schemas/nanoaod.py:264: RuntimeWarning: Missing cross-reference index for LowPtElectron_photonIdx => Photon\n",
            "  warnings.warn(\n",
            "/usr/local/lib/python3.11/dist-packages/coffea/nanoevents/schemas/nanoaod.py:264: RuntimeWarning: Missing cross-reference index for FatJet_genJetAK8Idx => GenJetAK8\n",
            "  warnings.warn(\n"
          ]
        }
      ]
    },
    {
      "cell_type": "code",
      "source": [
        "events"
      ],
      "metadata": {
        "colab": {
          "base_uri": "https://localhost:8080/"
        },
        "id": "eFkgYOO8cXCd",
        "outputId": "f2d244ef-8987-4e83-ecd0-5699ccf624b4"
      },
      "execution_count": null,
      "outputs": [
        {
          "output_type": "execute_result",
          "data": {
            "text/plain": [
              "<coffea.nanoevents.factory.NanoEventsFactory at 0x7dc534b94ed0>"
            ]
          },
          "metadata": {},
          "execution_count": 4
        }
      ]
    },
    {
      "cell_type": "code",
      "source": [
        "events = events.events()"
      ],
      "metadata": {
        "id": "-viLsTCVkKLu"
      },
      "execution_count": null,
      "outputs": []
    },
    {
      "cell_type": "code",
      "source": [
        "events"
      ],
      "metadata": {
        "colab": {
          "base_uri": "https://localhost:8080/",
          "height": 434
        },
        "id": "u3NvM_GmPacO",
        "outputId": "5c796349-88bd-4666-d302-fbbe5ac3ec1d"
      },
      "execution_count": null,
      "outputs": [
        {
          "output_type": "execute_result",
          "data": {
            "text/html": [
              "<pre>[{L1Reco: {step: True}, SubJet: [], PV: {ndof: 75.5, ...}, ...},\n",
              " {L1Reco: {step: True}, SubJet: [], PV: {ndof: 42, ...}, ...},\n",
              " {L1Reco: {step: True}, SubJet: [], PV: {ndof: 78.2, ...}, ...},\n",
              " {L1Reco: {step: True}, SubJet: [], PV: {ndof: 62.8, ...}, ...},\n",
              " {L1Reco: {step: True}, SubJet: [], PV: {ndof: 160, ...}, ...},\n",
              " {L1Reco: {step: True}, SubJet: [], PV: {ndof: 52.2, ...}, ...},\n",
              " {L1Reco: {step: True}, SubJet: [], PV: {ndof: 24.6, ...}, ...},\n",
              " {L1Reco: {step: True}, SubJet: [], PV: {ndof: 106, ...}, ...},\n",
              " {L1Reco: {step: True}, SubJet: [], PV: {ndof: 68, ...}, ...},\n",
              " {L1Reco: {step: True}, SubJet: [], PV: {ndof: 170, ...}, ...},\n",
              " ...,\n",
              " {L1Reco: {step: True}, SubJet: [], PV: {ndof: 117, ...}, ...},\n",
              " {L1Reco: {step: True}, SubJet: [], PV: {ndof: 32.5, ...}, ...},\n",
              " {L1Reco: {step: True}, SubJet: [], PV: {ndof: 128, ...}, ...},\n",
              " {L1Reco: {step: True}, SubJet: [], PV: {ndof: 6.31, ...}, ...},\n",
              " {L1Reco: {step: True}, SubJet: [], PV: {ndof: 19.6, ...}, ...},\n",
              " {L1Reco: {step: True}, SubJet: [], PV: {ndof: 139, ...}, ...},\n",
              " {L1Reco: {step: True}, SubJet: [], PV: {ndof: 52.5, ...}, ...},\n",
              " {L1Reco: {step: True}, SubJet: [], PV: {ndof: 84.5, ...}, ...},\n",
              " {L1Reco: {step: True}, SubJet: [], PV: {ndof: 84.5, ...}, ...}]\n",
              "----------------------------------------------------------------\n",
              "backend: cpu\n",
              "nbytes: 243.3 kB\n",
              "type: 40 * event</pre>"
            ],
            "text/plain": [
              "<NanoEventsArray [<NanoAOD event>, ...] type='40 * event'>"
            ]
          },
          "metadata": {},
          "execution_count": 6
        }
      ]
    },
    {
      "cell_type": "code",
      "source": [
        "events[0]\n",
        "events[0].show(30)"
      ],
      "metadata": {
        "colab": {
          "base_uri": "https://localhost:8080/"
        },
        "id": "LCuTJ-8lPin-",
        "outputId": "86752916-3934-4b73-a420-53cf4d33f201"
      },
      "execution_count": null,
      "outputs": [
        {
          "output_type": "stream",
          "name": "stdout",
          "text": [
            "{L1Reco: {step: True},\n",
            " SubJet: [],\n",
            " PV: {ndof: 75.5, x: 0.0109, y: 0.0397, z: -2.23, chi2: 0.791, score: ..., ...},\n",
            " luminosityBlock: 13889,\n",
            " CaloMET: {phi: 2.79, pt: 32.1, sumEt: 652},\n",
            " fixedGridRhoFastjetAll: 11.9,\n",
            " genTtbarId: 0,\n",
            " TrigObj: [{pt: 115, eta: 0, phi: 0, l1pt: 161, l1pt_2: 0, ...}, ..., {...}],\n",
            " fixedGridRhoFastjetCentralCalo: 6.69,\n",
            " SoftActivityJetNjets5: 2,\n",
            " SoftActivityJetHT: 80.1,\n",
            " fixedGridRhoFastjetCentral: 13.1,\n",
            " SoftActivityJetNjets10: 2,\n",
            " FatJet: [],\n",
            " FsrPhoton: [],\n",
            " btagWeight: {CSVV2: 0.951, DeepCSVB: 0.893},\n",
            " Jet: [Jet, ..., Jet],\n",
            " L1: {AlwaysTrue: True, BPTX_AND_Ref1_VME: False, BPTX_AND_Ref3_VME: ..., ...},\n",
            " HLTriggerFinalPath: False,\n",
            " Tau: [],\n",
            " SoftActivityJetHT10: 63.5,\n",
            " LHE: {HT: 95.4, HTIncoming: 95.4, Vpt: 95.4, Njets: 1, Nb: 0, Nc: 0, ...},\n",
            " HTXS: {Higgs_pt: 0, Higgs_y: nan, stage1_1_cat_pTjet25GeV: 0, ...},\n",
            " run: 1,\n",
            " HLT: {AK8PFJet360_TrimMass30: False, AK8PFJet380_TrimMass30: False, ...},\n",
            " GenJetAK8: [],\n",
            " Flag: {ecalBadCalibFilterV2: True, HBHENoiseFilter: True, ...},\n",
            " genWeight: 2.63e+04,\n",
            " SoftActivityJetHT5: 63.5,\n",
            " ...}\n"
          ]
        }
      ]
    },
    {
      "cell_type": "code",
      "source": [
        "events.Jet"
      ],
      "metadata": {
        "colab": {
          "base_uri": "https://localhost:8080/",
          "height": 642
        },
        "id": "YiZYV0suPrDa",
        "outputId": "1b0de0a4-5344-4e3b-fbe7-564d5ceba138"
      },
      "execution_count": null,
      "outputs": [
        {
          "output_type": "execute_result",
          "data": {
            "text/html": [
              "<pre>[[Jet, ...],\n",
              " [Jet, ...],\n",
              " [Jet, ...],\n",
              " [Jet, ...],\n",
              " [Jet, ...],\n",
              " [Jet, ...],\n",
              " [Jet, ...],\n",
              " [Jet, ...],\n",
              " [{area: 0.499, btagCMVA: -0.853, btagCSVV2: -10, btagDeepB: -2, ...}],\n",
              " [Jet, ...],\n",
              " ...,\n",
              " [Jet, ...],\n",
              " [Jet, ...],\n",
              " [Jet, ...],\n",
              " [Jet, ...],\n",
              " [Jet, ...],\n",
              " [Jet, ...],\n",
              " [{area: 0.499, btagCMVA: -0.716, btagCSVV2: 0.297, btagDeepB: 0.0441, ...}],\n",
              " [Jet, ...],\n",
              " [Jet, ...]]\n",
              "-----------------------------------------------------------------------------\n",
              "backend: cpu\n",
              "nbytes: 43.4 kB\n",
              "type: 40 * var * Jet[\n",
              "    area: float32[parameters={&quot;__doc__&quot;: &quot;jet catchment area, for JECs&quot;, &quot;typename&quot;: &quot;float[]&quot;}],\n",
              "    btagCMVA: float32[parameters={&quot;__doc__&quot;: &quot;CMVA V2 btag discriminator&quot;, &quot;typename&quot;: &quot;float[]&quot;}],\n",
              "    btagCSVV2: float32[parameters={&quot;__doc__&quot;: &quot; pfCombinedInclusiveSecondaryVertexV2 b-tag discriminator (aka CSVV2)&quot;, &quot;typename&quot;: &quot;float[]&quot;}],\n",
              "    btagDeepB: float32[parameters={&quot;__doc__&quot;: &quot;DeepCSV b+bb tag discriminator&quot;, &quot;typename&quot;: &quot;float[]&quot;}],\n",
              "    btagDeepC: float32[parameters={&quot;__doc__&quot;: &quot;DeepCSV charm btag discriminator&quot;, &quot;typename&quot;: &quot;float[]&quot;}],\n",
              "    btagDeepFlavB: float32[parameters={&quot;__doc__&quot;: &quot;DeepFlavour b+bb+lepb tag discriminator&quot;, &quot;typename&quot;: &quot;float[]&quot;}],\n",
              "    btagDeepFlavC: float32[parameters={&quot;__doc__&quot;: &quot;DeepFlavour charm tag discriminator&quot;, &quot;typename&quot;: &quot;float[]&quot;}],\n",
              "    chEmEF: float32[parameters={&quot;__doc__&quot;: &quot;charged Electromagnetic Energy Fraction&quot;, &quot;typename&quot;: &quot;float[]&quot;}],\n",
              "    chHEF: float32[parameters={&quot;__doc__&quot;: &quot;charged Hadron Energy Fraction&quot;, &quot;typename&quot;: &quot;float[]&quot;}],\n",
              "    eta: float32[parameters={&quot;__doc__&quot;: &quot;eta&quot;, &quot;typename&quot;: &quot;float[]&quot;}],\n",
              "    ...\n",
              "parameters={&quot;__doc__&quot;: &quot;slimmedJets, i.e. ak4 PFJets CHS with JECs applied, after basic selection (pt &gt; 15)&quot;, &quot;collection_name&quot;: &quot;Jet&quot;}]</pre>"
            ],
            "text/plain": [
              "<JetArray [[Jet, ..., Jet], ...] type='40 * var * Jet[area: float32[paramet...'>"
            ]
          },
          "metadata": {},
          "execution_count": 8
        }
      ]
    },
    {
      "cell_type": "code",
      "source": [
        "events[0].Jet"
      ],
      "metadata": {
        "colab": {
          "base_uri": "https://localhost:8080/",
          "height": 382
        },
        "id": "S1t259dPPzOY",
        "outputId": "a1cfeabf-0c25-4297-c4c3-90a86a587d1d",
        "collapsed": true
      },
      "execution_count": null,
      "outputs": [
        {
          "output_type": "execute_result",
          "data": {
            "text/html": [
              "<pre>[{area: 0.449, btagCMVA: -0.984, btagCSVV2: 0.0817, btagDeepB: 0.0134, ...},\n",
              " {area: 0.519, btagCMVA: -0.853, btagCSVV2: -10, btagDeepB: -2, ...},\n",
              " {area: 0.469, btagCMVA: -0.926, btagCSVV2: 0.326, btagDeepB: 0.0383, ...},\n",
              " {area: 0.529, btagCMVA: -0.853, btagCSVV2: -10, btagDeepB: -2, ...},\n",
              " {area: 0.519, btagCMVA: -0.853, btagCSVV2: -10, btagDeepB: -2, ...}]\n",
              "----------------------------------------------------------------------------\n",
              "backend: cpu\n",
              "nbytes: 7.0 kB\n",
              "type: 5 * Jet[\n",
              "    area: float32[parameters={&quot;__doc__&quot;: &quot;jet catchment area, for JECs&quot;, &quot;typename&quot;: &quot;float[]&quot;}],\n",
              "    btagCMVA: float32[parameters={&quot;__doc__&quot;: &quot;CMVA V2 btag discriminator&quot;, &quot;typename&quot;: &quot;float[]&quot;}],\n",
              "    btagCSVV2: float32[parameters={&quot;__doc__&quot;: &quot; pfCombinedInclusiveSecondaryVertexV2 b-tag discriminator (aka CSVV2)&quot;, &quot;typename&quot;: &quot;float[]&quot;}],\n",
              "    btagDeepB: float32[parameters={&quot;__doc__&quot;: &quot;DeepCSV b+bb tag discriminator&quot;, &quot;typename&quot;: &quot;float[]&quot;}],\n",
              "    btagDeepC: float32[parameters={&quot;__doc__&quot;: &quot;DeepCSV charm btag discriminator&quot;, &quot;typename&quot;: &quot;float[]&quot;}],\n",
              "    btagDeepFlavB: float32[parameters={&quot;__doc__&quot;: &quot;DeepFlavour b+bb+lepb tag discriminator&quot;, &quot;typename&quot;: &quot;float[]&quot;}],\n",
              "    btagDeepFlavC: float32[parameters={&quot;__doc__&quot;: &quot;DeepFlavour charm tag discriminator&quot;, &quot;typename&quot;: &quot;float[]&quot;}],\n",
              "    chEmEF: float32[parameters={&quot;__doc__&quot;: &quot;charged Electromagnetic Energy Fraction&quot;, &quot;typename&quot;: &quot;float[]&quot;}],\n",
              "    chHEF: float32[parameters={&quot;__doc__&quot;: &quot;charged Hadron Energy Fraction&quot;, &quot;typename&quot;: &quot;float[]&quot;}],\n",
              "    eta: float32[parameters={&quot;__doc__&quot;: &quot;eta&quot;, &quot;typename&quot;: &quot;float[]&quot;}],\n",
              "    ...\n",
              "parameters={&quot;__doc__&quot;: &quot;slimmedJets, i.e. ak4 PFJets CHS with JECs applied, after basic selection (pt &gt; 15)&quot;, &quot;collection_name&quot;: &quot;Jet&quot;}]</pre>"
            ],
            "text/plain": [
              "<JetArray [Jet, ...] type='5 * Jet[area: float32[parameters={\"__doc__\": \"je...'>"
            ]
          },
          "metadata": {},
          "execution_count": 9
        }
      ]
    },
    {
      "cell_type": "code",
      "source": [
        "events[0].Jet.mass"
      ],
      "metadata": {
        "colab": {
          "base_uri": "https://localhost:8080/",
          "height": 173
        },
        "id": "P9uXbBe0XegJ",
        "outputId": "2e3240d1-5e14-4b16-f7c8-ce897638f843"
      },
      "execution_count": null,
      "outputs": [
        {
          "output_type": "execute_result",
          "data": {
            "text/html": [
              "<pre>[11.7,\n",
              " 8.94,\n",
              " 2.69,\n",
              " 3.81,\n",
              " 4.23]\n",
              "------\n",
              "backend: cpu\n",
              "nbytes: 20 B\n",
              "type: 5 * float32[parameters={&quot;__doc__&quot;: &quot;mass&quot;, &quot;typename&quot;: &quot;float[]&quot;}]</pre>"
            ],
            "text/plain": [
              "<Array [11.7, 8.94, 2.69, 3.81, 4.23] type='5 * float32[parameters={\"__doc_...'>"
            ]
          },
          "metadata": {},
          "execution_count": 10
        }
      ]
    },
    {
      "cell_type": "code",
      "source": [],
      "metadata": {
        "id": "_Slfkykn9OFt"
      },
      "execution_count": null,
      "outputs": []
    }
  ]
}